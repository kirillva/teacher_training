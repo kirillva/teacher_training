{
 "cells": [
  {
   "cell_type": "markdown",
   "metadata": {
    "toc": true
   },
   "source": [
    "<h1>Содержание<span class=\"tocSkip\"></span></h1>\n",
    "<div class=\"toc\"><ul class=\"toc-item\"><li><span><a href=\"#Подготовка-данных\" data-toc-modified-id=\"Подготовка-данных-1\"><span class=\"toc-item-num\">1&nbsp;&nbsp;</span>Подготовка данных</a></span></li><li><span><a href=\"#Исследование-задачи\" data-toc-modified-id=\"Исследование-задачи-2\"><span class=\"toc-item-num\">2&nbsp;&nbsp;</span>Исследование задачи</a></span></li><li><span><a href=\"#Борьба-с-дисбалансом\" data-toc-modified-id=\"Борьба-с-дисбалансом-3\"><span class=\"toc-item-num\">3&nbsp;&nbsp;</span>Борьба с дисбалансом</a></span></li><li><span><a href=\"#Тестирование-модели\" data-toc-modified-id=\"Тестирование-модели-4\"><span class=\"toc-item-num\">4&nbsp;&nbsp;</span>Тестирование модели</a></span></li><li><span><a href=\"#Чек-лист-готовности-проекта\" data-toc-modified-id=\"Чек-лист-готовности-проекта-5\"><span class=\"toc-item-num\">5&nbsp;&nbsp;</span>Чек-лист готовности проекта</a></span></li></ul></div>"
   ]
  },
  {
   "cell_type": "markdown",
   "metadata": {},
   "source": [
    "# Отток клиентов"
   ]
  },
  {
   "cell_type": "markdown",
   "metadata": {},
   "source": [
    "Из «Бета-Банка» стали уходить клиенты. Каждый месяц. Немного, но заметно. Банковские маркетологи посчитали: сохранять текущих клиентов дешевле, чем привлекать новых.\n",
    "\n",
    "Нужно спрогнозировать, уйдёт клиент из банка в ближайшее время или нет. Вам предоставлены исторические данные о поведении клиентов и расторжении договоров с банком. \n",
    "\n",
    "Постройте модель с предельно большим значением *F1*-меры. Чтобы сдать проект успешно, нужно довести метрику до 0.59. Проверьте *F1*-меру на тестовой выборке самостоятельно.\n",
    "\n",
    "Дополнительно измеряйте *AUC-ROC*, сравнивайте её значение с *F1*-мерой.\n",
    "\n",
    "Источник данных: [https://www.kaggle.com/barelydedicated/bank-customer-churn-modeling](https://www.kaggle.com/barelydedicated/bank-customer-churn-modeling)\n",
    "\n",
    "Признаки\n",
    "+ RowNumber — индекс строки в данных\n",
    "+ CustomerId — уникальный идентификатор клиента\n",
    "+ Surname — фамилия\n",
    "+ CreditScore — кредитный рейтинг\n",
    "+ Geography — страна проживания\n",
    "+ Gender — пол\n",
    "+ Age — возраст\n",
    "+ Tenure — сколько лет человек является клиентом банка\n",
    "+ Balance — баланс на счёте\n",
    "+ NumOfProducts — количество продуктов банка, используемых клиентом\n",
    "+ HasCrCard — наличие кредитной карты\n",
    "+ IsActiveMember — активность клиента\n",
    "+ EstimatedSalary — предполагаемая зарплата\n",
    "\n",
    "Целевой признак\n",
    "+ Exited — факт ухода клиента"
   ]
  },
  {
   "cell_type": "markdown",
   "metadata": {},
   "source": [
    "## Подготовка данных"
   ]
  },
  {
   "cell_type": "code",
   "execution_count": 1,
   "metadata": {},
   "outputs": [],
   "source": [
    "import pandas as pd\n",
    "import matplotlib.pyplot as plt\n",
    "import random\n",
    "from sklearn.preprocessing import StandardScaler\n",
    "from sklearn.tree import DecisionTreeClassifier\n",
    "from sklearn.ensemble import RandomForestClassifier\n",
    "from sklearn.linear_model import LogisticRegression \n",
    "from sklearn.model_selection import train_test_split \n",
    "from sklearn.metrics import f1_score\n",
    "from sklearn.metrics import roc_auc_score \n",
    "from sklearn.metrics import roc_curve \n",
    "from sklearn.metrics import precision_recall_curve\n",
    "from sklearn.utils import shuffle"
   ]
  },
  {
   "cell_type": "code",
   "execution_count": 2,
   "metadata": {},
   "outputs": [
    {
     "data": {
      "text/html": [
       "<div>\n",
       "<style scoped>\n",
       "    .dataframe tbody tr th:only-of-type {\n",
       "        vertical-align: middle;\n",
       "    }\n",
       "\n",
       "    .dataframe tbody tr th {\n",
       "        vertical-align: top;\n",
       "    }\n",
       "\n",
       "    .dataframe thead th {\n",
       "        text-align: right;\n",
       "    }\n",
       "</style>\n",
       "<table border=\"1\" class=\"dataframe\">\n",
       "  <thead>\n",
       "    <tr style=\"text-align: right;\">\n",
       "      <th></th>\n",
       "      <th>RowNumber</th>\n",
       "      <th>CustomerId</th>\n",
       "      <th>Surname</th>\n",
       "      <th>CreditScore</th>\n",
       "      <th>Geography</th>\n",
       "      <th>Gender</th>\n",
       "      <th>Age</th>\n",
       "      <th>Tenure</th>\n",
       "      <th>Balance</th>\n",
       "      <th>NumOfProducts</th>\n",
       "      <th>HasCrCard</th>\n",
       "      <th>IsActiveMember</th>\n",
       "      <th>EstimatedSalary</th>\n",
       "      <th>Exited</th>\n",
       "    </tr>\n",
       "  </thead>\n",
       "  <tbody>\n",
       "    <tr>\n",
       "      <th>0</th>\n",
       "      <td>1</td>\n",
       "      <td>15634602</td>\n",
       "      <td>Hargrave</td>\n",
       "      <td>619</td>\n",
       "      <td>France</td>\n",
       "      <td>Female</td>\n",
       "      <td>42</td>\n",
       "      <td>2.0</td>\n",
       "      <td>0.00</td>\n",
       "      <td>1</td>\n",
       "      <td>1</td>\n",
       "      <td>1</td>\n",
       "      <td>101348.88</td>\n",
       "      <td>1</td>\n",
       "    </tr>\n",
       "    <tr>\n",
       "      <th>1</th>\n",
       "      <td>2</td>\n",
       "      <td>15647311</td>\n",
       "      <td>Hill</td>\n",
       "      <td>608</td>\n",
       "      <td>Spain</td>\n",
       "      <td>Female</td>\n",
       "      <td>41</td>\n",
       "      <td>1.0</td>\n",
       "      <td>83807.86</td>\n",
       "      <td>1</td>\n",
       "      <td>0</td>\n",
       "      <td>1</td>\n",
       "      <td>112542.58</td>\n",
       "      <td>0</td>\n",
       "    </tr>\n",
       "    <tr>\n",
       "      <th>2</th>\n",
       "      <td>3</td>\n",
       "      <td>15619304</td>\n",
       "      <td>Onio</td>\n",
       "      <td>502</td>\n",
       "      <td>France</td>\n",
       "      <td>Female</td>\n",
       "      <td>42</td>\n",
       "      <td>8.0</td>\n",
       "      <td>159660.80</td>\n",
       "      <td>3</td>\n",
       "      <td>1</td>\n",
       "      <td>0</td>\n",
       "      <td>113931.57</td>\n",
       "      <td>1</td>\n",
       "    </tr>\n",
       "    <tr>\n",
       "      <th>3</th>\n",
       "      <td>4</td>\n",
       "      <td>15701354</td>\n",
       "      <td>Boni</td>\n",
       "      <td>699</td>\n",
       "      <td>France</td>\n",
       "      <td>Female</td>\n",
       "      <td>39</td>\n",
       "      <td>1.0</td>\n",
       "      <td>0.00</td>\n",
       "      <td>2</td>\n",
       "      <td>0</td>\n",
       "      <td>0</td>\n",
       "      <td>93826.63</td>\n",
       "      <td>0</td>\n",
       "    </tr>\n",
       "    <tr>\n",
       "      <th>4</th>\n",
       "      <td>5</td>\n",
       "      <td>15737888</td>\n",
       "      <td>Mitchell</td>\n",
       "      <td>850</td>\n",
       "      <td>Spain</td>\n",
       "      <td>Female</td>\n",
       "      <td>43</td>\n",
       "      <td>2.0</td>\n",
       "      <td>125510.82</td>\n",
       "      <td>1</td>\n",
       "      <td>1</td>\n",
       "      <td>1</td>\n",
       "      <td>79084.10</td>\n",
       "      <td>0</td>\n",
       "    </tr>\n",
       "  </tbody>\n",
       "</table>\n",
       "</div>"
      ],
      "text/plain": [
       "   RowNumber  CustomerId   Surname  CreditScore Geography  Gender  Age  \\\n",
       "0          1    15634602  Hargrave          619    France  Female   42   \n",
       "1          2    15647311      Hill          608     Spain  Female   41   \n",
       "2          3    15619304      Onio          502    France  Female   42   \n",
       "3          4    15701354      Boni          699    France  Female   39   \n",
       "4          5    15737888  Mitchell          850     Spain  Female   43   \n",
       "\n",
       "   Tenure    Balance  NumOfProducts  HasCrCard  IsActiveMember  \\\n",
       "0     2.0       0.00              1          1               1   \n",
       "1     1.0   83807.86              1          0               1   \n",
       "2     8.0  159660.80              3          1               0   \n",
       "3     1.0       0.00              2          0               0   \n",
       "4     2.0  125510.82              1          1               1   \n",
       "\n",
       "   EstimatedSalary  Exited  \n",
       "0        101348.88       1  \n",
       "1        112542.58       0  \n",
       "2        113931.57       1  \n",
       "3         93826.63       0  \n",
       "4         79084.10       0  "
      ]
     },
     "metadata": {},
     "output_type": "display_data"
    },
    {
     "name": "stdout",
     "output_type": "stream",
     "text": [
      "<class 'pandas.core.frame.DataFrame'>\n",
      "RangeIndex: 10000 entries, 0 to 9999\n",
      "Data columns (total 14 columns):\n",
      " #   Column           Non-Null Count  Dtype  \n",
      "---  ------           --------------  -----  \n",
      " 0   RowNumber        10000 non-null  int64  \n",
      " 1   CustomerId       10000 non-null  int64  \n",
      " 2   Surname          10000 non-null  object \n",
      " 3   CreditScore      10000 non-null  int64  \n",
      " 4   Geography        10000 non-null  object \n",
      " 5   Gender           10000 non-null  object \n",
      " 6   Age              10000 non-null  int64  \n",
      " 7   Tenure           9091 non-null   float64\n",
      " 8   Balance          10000 non-null  float64\n",
      " 9   NumOfProducts    10000 non-null  int64  \n",
      " 10  HasCrCard        10000 non-null  int64  \n",
      " 11  IsActiveMember   10000 non-null  int64  \n",
      " 12  EstimatedSalary  10000 non-null  float64\n",
      " 13  Exited           10000 non-null  int64  \n",
      "dtypes: float64(3), int64(8), object(3)\n",
      "memory usage: 1.1+ MB\n",
      "None\n"
     ]
    }
   ],
   "source": [
    "df = pd.read_csv('/datasets/Churn.csv')\n",
    "display(df.head())\n",
    "print(df.info())"
   ]
  },
  {
   "cell_type": "code",
   "execution_count": 3,
   "metadata": {},
   "outputs": [],
   "source": [
    "#Определим, какие признаки категориальные, а какие количественные\n",
    "numeric = ['CreditScore', 'Age', 'Tenure', 'Balance', 'EstimatedSalary']\n",
    "categories = ['Geography','Gender','NumOfProducts','HasCrCard','IsActiveMember']"
   ]
  },
  {
   "cell_type": "code",
   "execution_count": 4,
   "metadata": {},
   "outputs": [],
   "source": [
    "#Уберем ненужные колонки\n",
    "df = df.drop(['Surname', 'CustomerId', 'RowNumber'], axis=1)"
   ]
  },
  {
   "cell_type": "code",
   "execution_count": 5,
   "metadata": {
    "scrolled": true
   },
   "outputs": [
    {
     "name": "stdout",
     "output_type": "stream",
     "text": [
      "1.0     952\n",
      "2.0     950\n",
      "8.0     933\n",
      "3.0     928\n",
      "5.0     927\n",
      "7.0     925\n",
      "4.0     885\n",
      "9.0     882\n",
      "6.0     881\n",
      "10.0    446\n",
      "0.0     382\n",
      "Name: Tenure, dtype: int64\n"
     ]
    }
   ],
   "source": [
    "#Как видно из вызова info в колонке Tenure есть пропуски.\n",
    "#Поскольку значения распределены примерно  равномерно то лучше заполнить рандомными чем медианой\n",
    "print(df['Tenure'].value_counts())\n",
    "df['Tenure'] = df['Tenure'].apply(lambda x: random.choice(df['Tenure'].dropna().values))"
   ]
  },
  {
   "cell_type": "code",
   "execution_count": 6,
   "metadata": {},
   "outputs": [],
   "source": [
    "#отделяем 40% выборки и делим их пополам, получая валидационную и тестовую.\n",
    "df_train, data_new = train_test_split(df, test_size=0.40, random_state=12345)\n",
    "df_valid, df_test = train_test_split(data_new, test_size=0.50, random_state=12345)"
   ]
  },
  {
   "cell_type": "code",
   "execution_count": 7,
   "metadata": {},
   "outputs": [],
   "source": [
    "#обучающая выборка и OHE\n",
    "features_train = pd.get_dummies(df_train[categories], drop_first=True)\n",
    "target_train = df_train['Exited']\n",
    "\n",
    "#валидационная выборка и OHE\n",
    "features_valid = pd.get_dummies(df_valid[categories], drop_first=True)\n",
    "target_valid = df_valid['Exited']\n",
    "\n",
    "#тестовая выборка и OHE\n",
    "features_test = pd.get_dummies(df_test[categories], drop_first=True)\n",
    "target_test = df_test['Exited']\n",
    "\n",
    "#масштабирование\n",
    "scaler = StandardScaler()\n",
    "scaler.fit(df_train[numeric])\n",
    "features_train[numeric] = scaler.transform(df_train[numeric])\n",
    "features_valid[numeric] = scaler.transform(df_valid[numeric])\n",
    "features_test[numeric] = scaler.transform(df_test[numeric])"
   ]
  },
  {
   "cell_type": "markdown",
   "metadata": {},
   "source": [
    "<b>Итог:</b>\n",
    "Данные подготовлены, три лишние колонки удалены, пропуски в колонке Tenure (сколько лет человек является клиентом банка) заполнены нулями. Категориальные преобразованы по технике OHE, количественные приведены к одному масштабу."
   ]
  },
  {
   "cell_type": "markdown",
   "metadata": {},
   "source": [
    "## Исследование задачи"
   ]
  },
  {
   "cell_type": "code",
   "execution_count": 8,
   "metadata": {},
   "outputs": [],
   "source": [
    "def score_model(model, features, target):\n",
    "    '''Вывод значений F1 и AUC-ROC'''\n",
    "    predictions = model.predict(features)\n",
    "    print('F1:', f1_score(target, predictions))\n",
    "    probabilities = model.predict_proba(features)\n",
    "    probabilities_one = probabilities[:, 1]\n",
    "    print('AUC-ROC:', roc_auc_score(target, probabilities_one))"
   ]
  },
  {
   "cell_type": "code",
   "execution_count": 9,
   "metadata": {},
   "outputs": [],
   "source": [
    "exited_values = df['Exited'].value_counts(normalize=True)"
   ]
  },
  {
   "cell_type": "code",
   "execution_count": 10,
   "metadata": {},
   "outputs": [
    {
     "data": {
      "image/png": "[encoded data removed]",
      "text/plain": [
       "<Figure size 432x288 with 1 Axes>"
      ]
     },
     "metadata": {
      "needs_background": "light"
     },
     "output_type": "display_data"
    }
   ],
   "source": [
    "exited_values.plot(kind='bar')\n",
    "None"
   ]
  },
  {
   "cell_type": "markdown",
   "metadata": {},
   "source": [
    "Как видно из графика значений с 0 в 4 раза больше чем с 1"
   ]
  },
  {
   "cell_type": "code",
   "execution_count": 11,
   "metadata": {},
   "outputs": [
    {
     "name": "stdout",
     "output_type": "stream",
     "text": [
      "F1: 0.5\n",
      "AUC-ROC: 0.6844403849527279\n"
     ]
    }
   ],
   "source": [
    "model = DecisionTreeClassifier(random_state=12345)\n",
    "model.fit(features_train, target_train)\n",
    "score_model(model, features_valid, target_valid)"
   ]
  },
  {
   "cell_type": "code",
   "execution_count": 12,
   "metadata": {},
   "outputs": [
    {
     "name": "stdout",
     "output_type": "stream",
     "text": [
      "F1: 0.3282051282051282\n",
      "AUC-ROC: 0.7576836298308118\n"
     ]
    }
   ],
   "source": [
    "model = LogisticRegression(random_state=12345, solver='liblinear')\n",
    "model.fit(features_train, target_train)\n",
    "score_model(model, features_valid, target_valid)"
   ]
  },
  {
   "cell_type": "code",
   "execution_count": 13,
   "metadata": {},
   "outputs": [
    {
     "name": "stdout",
     "output_type": "stream",
     "text": [
      "F1: 0.5787878787878789\n",
      "AUC-ROC: 0.8374150884048415\n"
     ]
    }
   ],
   "source": [
    "model = RandomForestClassifier(n_estimators=100, random_state=12345)\n",
    "model.fit(features_train, target_train)\n",
    "score_model(model, features_valid, target_valid)"
   ]
  },
  {
   "cell_type": "markdown",
   "metadata": {},
   "source": [
    "<b>Вывод:</b>\n",
    "Существует перекос в сторону \"не ушел\", значений с нулем почти 8т. а с единицей 2т.\n",
    "Можно либо выбросить 3/4 нулей, либо увеличить количество единиц в 4 раза.\n",
    "\n",
    "На текущих данных лучше всего показывает себя RandomForestClassifier"
   ]
  },
  {
   "cell_type": "markdown",
   "metadata": {},
   "source": [
    "## Борьба с дисбалансом"
   ]
  },
  {
   "cell_type": "code",
   "execution_count": 14,
   "metadata": {},
   "outputs": [
    {
     "name": "stdout",
     "output_type": "stream",
     "text": [
      "F1: 0.486254295532646\n",
      "AUC-ROC: 0.762714811969586\n"
     ]
    }
   ],
   "source": [
    "model = LogisticRegression(random_state=12345, solver='liblinear', class_weight='balanced')\n",
    "model.fit(features_train, target_train)\n",
    "score_model(model, features_valid, target_valid)"
   ]
  },
  {
   "cell_type": "code",
   "execution_count": 15,
   "metadata": {},
   "outputs": [
    {
     "name": "stdout",
     "output_type": "stream",
     "text": [
      "F1: 0.5740740740740741\n",
      "AUC-ROC: 0.841551031641856\n"
     ]
    }
   ],
   "source": [
    "model = RandomForestClassifier(n_estimators=100, random_state=12345, class_weight='balanced')\n",
    "model.fit(features_train, target_train)\n",
    "score_model(model, features_valid, target_valid)"
   ]
  },
  {
   "cell_type": "code",
   "execution_count": 16,
   "metadata": {},
   "outputs": [
    {
     "name": "stdout",
     "output_type": "stream",
     "text": [
      "F1: 0.5080147965474722\n",
      "AUC-ROC: 0.6873090812308325\n"
     ]
    }
   ],
   "source": [
    "model = DecisionTreeClassifier(random_state=12345, class_weight='balanced')\n",
    "model.fit(features_train, target_train)\n",
    "score_model(model, features_valid, target_valid)"
   ]
  },
  {
   "cell_type": "code",
   "execution_count": 17,
   "metadata": {},
   "outputs": [],
   "source": [
    "def upsample(features, target, repeat):\n",
    "    features_zeros = features[target == 0]\n",
    "    features_ones = features[target == 1]\n",
    "    target_zeros = target[target == 0]\n",
    "    target_ones = target[target == 1]\n",
    "\n",
    "    features_upsampled = pd.concat([features_zeros] + [features_ones] * repeat)\n",
    "    target_upsampled = pd.concat([target_zeros] + [target_ones] * repeat)\n",
    "    \n",
    "    features_upsampled, target_upsampled = shuffle(\n",
    "        features_upsampled, target_upsampled, random_state=12345)\n",
    "    \n",
    "    return features_upsampled, target_upsampled\n",
    "\n",
    "\n",
    "\n",
    "def downsample(features, target, fraction):\n",
    "    features_zeros = features[target == 0]\n",
    "    features_ones = features[target == 1]\n",
    "    target_zeros = target[target == 0]\n",
    "    target_ones = target[target == 1]\n",
    "\n",
    "    features_downsampled = pd.concat(\n",
    "        [features_zeros.sample(frac=fraction, random_state=12345)] + [features_ones])\n",
    "    target_downsampled = pd.concat(\n",
    "        [target_zeros.sample(frac=fraction, random_state=12345)] + [target_ones])\n",
    "    \n",
    "    features_downsampled, target_downsampled = shuffle(\n",
    "        features_downsampled, target_downsampled, random_state=12345)\n",
    "    \n",
    "    return features_downsampled, target_downsampled"
   ]
  },
  {
   "cell_type": "code",
   "execution_count": 18,
   "metadata": {},
   "outputs": [],
   "source": [
    "features_downsampled, target_downsampled = downsample(features_train, target_train, 0.25)\n",
    "features_upsampled, target_upsampled = upsample(features_train, target_train, 4)"
   ]
  },
  {
   "cell_type": "markdown",
   "metadata": {},
   "source": [
    "Попробую для всех типов моделей передать им увеличенные и уменьшенные выборки, чтобы определить  какой способ борьбы с дисбалансом в данном случае лучше и определить гиперпараметры."
   ]
  },
  {
   "cell_type": "code",
   "execution_count": 19,
   "metadata": {},
   "outputs": [
    {
     "name": "stdout",
     "output_type": "stream",
     "text": [
      "F1: 0.4896907216494845\n",
      "AUC-ROC: 0.7625409057640079\n"
     ]
    }
   ],
   "source": [
    "model = LogisticRegression(random_state=12345, solver='liblinear')\n",
    "model.fit(features_downsampled, target_downsampled)\n",
    "score_model(model, features_valid, target_valid)"
   ]
  },
  {
   "cell_type": "code",
   "execution_count": 20,
   "metadata": {},
   "outputs": [
    {
     "name": "stdout",
     "output_type": "stream",
     "text": [
      "F1: 0.48620689655172417\n",
      "AUC-ROC: 0.7626830551842196\n"
     ]
    }
   ],
   "source": [
    "model = LogisticRegression(random_state=12345, solver='liblinear')\n",
    "model.fit(features_upsampled, target_upsampled)\n",
    "score_model(model, features_valid, target_valid)"
   ]
  },
  {
   "cell_type": "code",
   "execution_count": 21,
   "metadata": {},
   "outputs": [
    {
     "name": "stdout",
     "output_type": "stream",
     "text": [
      "F1: 0.47761194029850745\n",
      "AUC-ROC: 0.6864697947604329\n"
     ]
    }
   ],
   "source": [
    "model = DecisionTreeClassifier(random_state=12345)\n",
    "model.fit(features_downsampled, target_downsampled)\n",
    "score_model(model, features_valid, target_valid)"
   ]
  },
  {
   "cell_type": "code",
   "execution_count": 22,
   "metadata": {},
   "outputs": [
    {
     "name": "stdout",
     "output_type": "stream",
     "text": [
      "F1: 0.5284848484848484\n",
      "AUC-ROC: 0.7010310369648981\n"
     ]
    }
   ],
   "source": [
    "model = DecisionTreeClassifier(random_state=12345)\n",
    "model.fit(features_upsampled, target_upsampled)\n",
    "score_model(model, features_valid, target_valid)"
   ]
  },
  {
   "cell_type": "code",
   "execution_count": 23,
   "metadata": {},
   "outputs": [
    {
     "name": "stdout",
     "output_type": "stream",
     "text": [
      "F1: 0.569811320754717\n",
      "AUC-ROC: 0.840802478843932\n"
     ]
    }
   ],
   "source": [
    "model = RandomForestClassifier(n_estimators=100, random_state=12345)\n",
    "model.fit(features_downsampled, target_downsampled)\n",
    "score_model(model, features_valid, target_valid)"
   ]
  },
  {
   "cell_type": "code",
   "execution_count": 24,
   "metadata": {},
   "outputs": [
    {
     "name": "stdout",
     "output_type": "stream",
     "text": [
      "F1: 0.6005361930294907\n",
      "AUC-ROC: 0.8415480071861069\n"
     ]
    }
   ],
   "source": [
    "model = RandomForestClassifier(n_estimators=100, random_state=12345)\n",
    "model.fit(features_upsampled, target_upsampled)\n",
    "score_model(model, features_valid, target_valid)"
   ]
  },
  {
   "cell_type": "code",
   "execution_count": 25,
   "metadata": {},
   "outputs": [
    {
     "name": "stdout",
     "output_type": "stream",
     "text": [
      "Наилучший показатель: 0.6059443911792906 при глубине 8 и числе деревьев 80\n",
      "AUC-ROC: 0.8451206455398351\n"
     ]
    }
   ],
   "source": [
    "best_model_f = None\n",
    "best_result_f = 0\n",
    "best_depth_f = 0\n",
    "best_est_f = 0\n",
    "for est in range(80, 120, 10):\n",
    "    for depth in range(8, 12):\n",
    "        model = RandomForestClassifier(random_state=12345, n_estimators=est, max_depth=depth)\n",
    "        model.fit(features_downsampled, target_downsampled)\n",
    "        predictions = model.predict(features_valid)\n",
    "        result = f1_score(target_valid, predictions)\n",
    "        if result > best_result_f:\n",
    "            best_model_f = model\n",
    "            best_result_f = result\n",
    "            best_depth_f = depth\n",
    "            best_est_f = est\n",
    "\n",
    "print('Наилучший показатель:', best_result_f, 'при глубине', best_depth_f, 'и числе деревьев', best_est_f)\n",
    "probabilities = model.predict_proba(features_valid)\n",
    "probabilities_one = probabilities[:, 1]\n",
    "print('AUC-ROC:', roc_auc_score(target_valid, probabilities_one))"
   ]
  },
  {
   "cell_type": "code",
   "execution_count": 26,
   "metadata": {
    "scrolled": true
   },
   "outputs": [
    {
     "name": "stdout",
     "output_type": "stream",
     "text": [
      "Наилучший результат: 0.6228765571913931 при глубине 11 и числе деревьев 110\n",
      "AUC-ROC: 0.850227439072339\n"
     ]
    }
   ],
   "source": [
    "best_model_f = None\n",
    "best_result_f = 0\n",
    "best_depth_f = 0\n",
    "best_est_f = 0\n",
    "for est in range(80, 120, 10):\n",
    "    for depth in range(8, 12):\n",
    "        model = RandomForestClassifier(random_state=12345, n_estimators=est, max_depth=depth)\n",
    "        model.fit(features_upsampled, target_upsampled)\n",
    "        predictions = model.predict(features_valid)\n",
    "        result = f1_score(target_valid, predictions)\n",
    "        if result > best_result_f:\n",
    "            best_model_f = model\n",
    "            best_result_f = result\n",
    "            best_depth_f = depth\n",
    "            best_est_f = est\n",
    "\n",
    "print('Наилучший результат:', best_result_f, 'при глубине', best_depth_f, 'и числе деревьев', best_est_f)\n",
    "probabilities = model.predict_proba(features_valid)\n",
    "probabilities_one = probabilities[:, 1]\n",
    "print('AUC-ROC:', roc_auc_score(target_valid, probabilities_one))"
   ]
  },
  {
   "cell_type": "markdown",
   "metadata": {},
   "source": [
    "<b>Вывод:</b>\n",
    "Наилучший результат получается, если произвести апсэмплинг, увеличив количество записей с целевым параметром \"1\", продублировав уже имеющиеся данные.\n",
    "Если передавать уменьшенные выборки то на всех моделях результат хуже. \n",
    "Экспериментальным путем на основе F1-метрики были определены гиперпараметры модели."
   ]
  },
  {
   "cell_type": "markdown",
   "metadata": {},
   "source": [
    "## Тестирование модели"
   ]
  },
  {
   "cell_type": "code",
   "execution_count": 27,
   "metadata": {},
   "outputs": [
    {
     "name": "stdout",
     "output_type": "stream",
     "text": [
      "F1: 0.604494382022472\n",
      "AUC-ROC: 0.8570766829917655\n"
     ]
    }
   ],
   "source": [
    "predictions = best_model_f.predict(features_test)\n",
    "print('F1:', f1_score(target_test, predictions))\n",
    "probabilities_test = best_model_f.predict_proba(features_test)\n",
    "probabilities_one_test = probabilities_test[:, 1]\n",
    "print('AUC-ROC:', roc_auc_score(target_test, probabilities_one_test))"
   ]
  },
  {
   "cell_type": "code",
   "execution_count": 28,
   "metadata": {},
   "outputs": [
    {
     "data": {
      "image/png": "[encoded data removed]",
      "text/plain": [
       "<Figure size 432x432 with 1 Axes>"
      ]
     },
     "metadata": {
      "needs_background": "light"
     },
     "output_type": "display_data"
    }
   ],
   "source": [
    "#Чтобы показать качество модели и, как с изменением порога будут меняться параметры \n",
    "# точности и полноты, построим график\n",
    "probabilities_valid = model.predict_proba(features_test)\n",
    "precision, recall, thresholds = precision_recall_curve(target_test, probabilities_test[:, 1])\n",
    "\n",
    "plt.figure(figsize=(6, 6))\n",
    "plt.step(recall, precision, where='post')\n",
    "plt.xlabel('Recall')\n",
    "plt.ylabel('Precision')\n",
    "plt.ylim([0.0, 1.0])\n",
    "plt.xlim([0.0, 1.0])\n",
    "plt.title('Кривая Precision-Recall')\n",
    "plt.show() "
   ]
  },
  {
   "cell_type": "code",
   "execution_count": 29,
   "metadata": {},
   "outputs": [
    {
     "data": {
      "image/png": "[encoded data removed]",
      "text/plain": [
       "<Figure size 432x288 with 1 Axes>"
      ]
     },
     "metadata": {
      "needs_background": "light"
     },
     "output_type": "display_data"
    }
   ],
   "source": [
    "#Чтобы наглядно показать, как сильно наша модель отличается от случайной, построим ROC-кривую\n",
    "fpr, tpr, thresholds = roc_curve(target_test, probabilities_one_test) \n",
    "\n",
    "plt.figure()\n",
    "\n",
    "plt.plot([0, 1], [0, 1], linestyle='--')\n",
    "plt.plot(fpr, tpr)\n",
    "\n",
    "plt.xlim([0.0, 1.0])\n",
    "plt.ylim([0.0, 1.0])\n",
    "\n",
    "plt.xlabel('False Positive Rate')\n",
    "plt.ylabel('True Positive Rate')\n",
    "\n",
    "plt.title('ROC-кривая')\n",
    "plt.show() "
   ]
  },
  {
   "cell_type": "markdown",
   "metadata": {},
   "source": [
    "## Чек-лист готовности проекта"
   ]
  },
  {
   "cell_type": "markdown",
   "metadata": {},
   "source": [
    "Поставьте 'x' в выполненных пунктах. Далее нажмите Shift+Enter."
   ]
  },
  {
   "cell_type": "markdown",
   "metadata": {},
   "source": [
    "- [x]  Jupyter Notebook открыт\n",
    "- [x]  Весь код выполняется без ошибок\n",
    "- [x]  Ячейки с кодом расположены в порядке исполнения\n",
    "- [x]  Выполнен шаг 1: данные подготовлены\n",
    "- [x]  Выполнен шаг 2: задача исследована\n",
    "    - [x]  Исследован баланс классов\n",
    "    - [x]  Изучены модели без учёта дисбаланса\n",
    "    - [x]  Написаны выводы по результатам исследования\n",
    "- [x]  Выполнен шаг 3: учтён дисбаланс\n",
    "    - [x]  Применено несколько способов борьбы с дисбалансом\n",
    "    - [x]  Написаны выводы по результатам исследования\n",
    "- [x]  Выполнен шаг 4: проведено тестирование\n",
    "- [x]  Удалось достичь *F1*-меры не менее 0.59\n",
    "- [x]  Исследована метрика *AUC-ROC*"
   ]
  }
 ],
 "metadata": {
  "ExecuteTimeLog": [
   {
    "duration": 484,
    "start_time": "2022-10-15T05:00:09.580Z"
   },
   {
    "duration": 40,
    "start_time": "2022-10-15T05:00:22.786Z"
   },
   {
    "duration": 46,
    "start_time": "2022-10-15T05:00:34.427Z"
   },
   {
    "duration": 53,
    "start_time": "2022-10-15T05:00:43.980Z"
   },
   {
    "duration": 52,
    "start_time": "2022-10-15T08:37:29.632Z"
   },
   {
    "duration": 17,
    "start_time": "2022-10-15T09:29:22.204Z"
   },
   {
    "duration": 17,
    "start_time": "2022-10-15T09:29:29.668Z"
   },
   {
    "duration": 20,
    "start_time": "2022-10-15T09:29:39.606Z"
   },
   {
    "duration": 213,
    "start_time": "2022-10-15T09:29:58.378Z"
   },
   {
    "duration": 29,
    "start_time": "2022-10-15T09:30:00.092Z"
   },
   {
    "duration": 11,
    "start_time": "2022-10-15T09:30:06.905Z"
   },
   {
    "duration": 12,
    "start_time": "2022-10-15T09:30:10.042Z"
   },
   {
    "duration": 10,
    "start_time": "2022-10-15T09:30:36.043Z"
   },
   {
    "duration": 12,
    "start_time": "2022-10-15T09:30:38.305Z"
   },
   {
    "duration": 11,
    "start_time": "2022-10-15T09:31:20.100Z"
   },
   {
    "duration": 13,
    "start_time": "2022-10-15T09:31:22.188Z"
   },
   {
    "duration": 23,
    "start_time": "2022-10-15T09:32:18.839Z"
   },
   {
    "duration": 22,
    "start_time": "2022-10-15T09:32:45.818Z"
   },
   {
    "duration": 4,
    "start_time": "2022-10-15T09:32:56.408Z"
   },
   {
    "duration": 13,
    "start_time": "2022-10-15T09:33:10.069Z"
   },
   {
    "duration": 21,
    "start_time": "2022-10-15T09:36:21.318Z"
   },
   {
    "duration": 81,
    "start_time": "2022-10-15T09:36:39.210Z"
   },
   {
    "duration": 67,
    "start_time": "2022-10-15T09:36:54.082Z"
   },
   {
    "duration": 4,
    "start_time": "2022-10-15T09:36:54.151Z"
   },
   {
    "duration": 32,
    "start_time": "2022-10-15T09:36:57.609Z"
   },
   {
    "duration": 66,
    "start_time": "2022-10-15T09:37:16.033Z"
   },
   {
    "duration": 7,
    "start_time": "2022-10-15T09:37:16.102Z"
   },
   {
    "duration": 9,
    "start_time": "2022-10-15T09:37:16.111Z"
   },
   {
    "duration": 44,
    "start_time": "2022-10-15T09:37:16.122Z"
   },
   {
    "duration": 10,
    "start_time": "2022-10-15T09:37:16.169Z"
   },
   {
    "duration": 15,
    "start_time": "2022-10-15T09:37:16.181Z"
   },
   {
    "duration": 35,
    "start_time": "2022-10-15T09:37:53.587Z"
   },
   {
    "duration": 63,
    "start_time": "2022-10-15T09:38:15.141Z"
   },
   {
    "duration": 5,
    "start_time": "2022-10-15T09:38:15.207Z"
   },
   {
    "duration": 13,
    "start_time": "2022-10-15T09:38:15.214Z"
   },
   {
    "duration": 22,
    "start_time": "2022-10-15T09:38:15.229Z"
   },
   {
    "duration": 0,
    "start_time": "2022-10-15T09:38:15.254Z"
   },
   {
    "duration": 0,
    "start_time": "2022-10-15T09:38:15.255Z"
   },
   {
    "duration": 24,
    "start_time": "2022-10-15T09:38:22.813Z"
   },
   {
    "duration": 6,
    "start_time": "2022-10-15T09:38:30.883Z"
   },
   {
    "duration": 24,
    "start_time": "2022-10-15T09:38:45.618Z"
   },
   {
    "duration": 23,
    "start_time": "2022-10-15T09:43:27.808Z"
   },
   {
    "duration": 774,
    "start_time": "2022-10-15T09:45:36.984Z"
   },
   {
    "duration": 6,
    "start_time": "2022-10-15T09:45:37.760Z"
   },
   {
    "duration": 22,
    "start_time": "2022-10-15T09:45:37.767Z"
   },
   {
    "duration": 12,
    "start_time": "2022-10-15T09:45:37.791Z"
   },
   {
    "duration": 54,
    "start_time": "2022-10-15T09:45:37.805Z"
   },
   {
    "duration": 1,
    "start_time": "2022-10-15T09:45:37.860Z"
   },
   {
    "duration": 14,
    "start_time": "2022-10-15T09:45:53.987Z"
   },
   {
    "duration": 40,
    "start_time": "2022-10-15T09:45:59.180Z"
   },
   {
    "duration": 18,
    "start_time": "2022-10-15T09:46:13.657Z"
   },
   {
    "duration": 22,
    "start_time": "2022-10-15T09:46:34.266Z"
   },
   {
    "duration": 93,
    "start_time": "2022-10-15T09:46:40.562Z"
   },
   {
    "duration": 23,
    "start_time": "2022-10-15T09:46:53.383Z"
   },
   {
    "duration": 23,
    "start_time": "2022-10-15T09:47:35.565Z"
   },
   {
    "duration": 30,
    "start_time": "2022-10-15T09:48:03.444Z"
   },
   {
    "duration": 32,
    "start_time": "2022-10-15T09:48:19.410Z"
   },
   {
    "duration": 28,
    "start_time": "2022-10-15T09:48:31.356Z"
   },
   {
    "duration": 28,
    "start_time": "2022-10-15T09:48:39.942Z"
   },
   {
    "duration": 28,
    "start_time": "2022-10-15T09:48:56.432Z"
   },
   {
    "duration": 21,
    "start_time": "2022-10-15T09:49:09.262Z"
   },
   {
    "duration": 17,
    "start_time": "2022-10-15T09:49:14.859Z"
   },
   {
    "duration": 21,
    "start_time": "2022-10-15T09:49:49.055Z"
   },
   {
    "duration": 19,
    "start_time": "2022-10-15T09:49:50.766Z"
   },
   {
    "duration": 67,
    "start_time": "2022-10-15T09:50:06.429Z"
   },
   {
    "duration": 6,
    "start_time": "2022-10-15T09:50:06.498Z"
   },
   {
    "duration": 15,
    "start_time": "2022-10-15T09:50:06.505Z"
   },
   {
    "duration": 14,
    "start_time": "2022-10-15T09:50:06.521Z"
   },
   {
    "duration": 23,
    "start_time": "2022-10-15T09:50:06.538Z"
   },
   {
    "duration": 18,
    "start_time": "2022-10-15T09:50:06.563Z"
   },
   {
    "duration": 69,
    "start_time": "2022-10-15T09:50:28.186Z"
   },
   {
    "duration": 7,
    "start_time": "2022-10-15T09:50:37.121Z"
   },
   {
    "duration": 637,
    "start_time": "2022-10-15T10:19:26.564Z"
   },
   {
    "duration": 5,
    "start_time": "2022-10-15T10:19:27.203Z"
   },
   {
    "duration": 9,
    "start_time": "2022-10-15T10:19:27.210Z"
   },
   {
    "duration": 8,
    "start_time": "2022-10-15T10:19:27.220Z"
   },
   {
    "duration": 25,
    "start_time": "2022-10-15T10:19:27.231Z"
   },
   {
    "duration": 20,
    "start_time": "2022-10-15T10:19:27.258Z"
   },
   {
    "duration": 36456,
    "start_time": "2022-10-15T10:19:27.280Z"
   },
   {
    "duration": 6,
    "start_time": "2022-10-15T10:20:03.738Z"
   },
   {
    "duration": 54,
    "start_time": "2022-10-15T10:21:35.248Z"
   },
   {
    "duration": 11,
    "start_time": "2022-10-15T10:21:44.860Z"
   },
   {
    "duration": 35,
    "start_time": "2022-10-15T10:22:45.967Z"
   },
   {
    "duration": 38,
    "start_time": "2022-10-15T10:22:53.756Z"
   },
   {
    "duration": 43,
    "start_time": "2022-10-15T10:24:49.372Z"
   },
   {
    "duration": 41,
    "start_time": "2022-10-15T10:25:04.171Z"
   },
   {
    "duration": 44,
    "start_time": "2022-10-15T10:25:07.163Z"
   },
   {
    "duration": 6,
    "start_time": "2022-10-15T10:25:07.209Z"
   },
   {
    "duration": 9,
    "start_time": "2022-10-15T10:25:07.217Z"
   },
   {
    "duration": 9,
    "start_time": "2022-10-15T10:25:07.228Z"
   },
   {
    "duration": 21,
    "start_time": "2022-10-15T10:25:07.239Z"
   },
   {
    "duration": 16,
    "start_time": "2022-10-15T10:25:07.262Z"
   },
   {
    "duration": 6,
    "start_time": "2022-10-15T10:25:07.280Z"
   },
   {
    "duration": 16,
    "start_time": "2022-10-15T10:25:07.288Z"
   },
   {
    "duration": 56,
    "start_time": "2022-10-15T10:25:07.306Z"
   },
   {
    "duration": 9,
    "start_time": "2022-10-15T10:25:52.273Z"
   },
   {
    "duration": 44,
    "start_time": "2022-10-15T10:25:54.065Z"
   },
   {
    "duration": 44,
    "start_time": "2022-10-15T10:26:21.308Z"
   },
   {
    "duration": 5,
    "start_time": "2022-10-15T10:26:21.354Z"
   },
   {
    "duration": 9,
    "start_time": "2022-10-15T10:26:21.360Z"
   },
   {
    "duration": 10,
    "start_time": "2022-10-15T10:26:21.371Z"
   },
   {
    "duration": 22,
    "start_time": "2022-10-15T10:26:21.384Z"
   },
   {
    "duration": 18,
    "start_time": "2022-10-15T10:26:21.408Z"
   },
   {
    "duration": 32,
    "start_time": "2022-10-15T10:26:21.429Z"
   },
   {
    "duration": 13,
    "start_time": "2022-10-15T10:26:21.463Z"
   },
   {
    "duration": 56,
    "start_time": "2022-10-15T10:26:21.479Z"
   },
   {
    "duration": 101,
    "start_time": "2022-10-15T10:32:30.860Z"
   },
   {
    "duration": 52,
    "start_time": "2022-10-15T10:32:34.162Z"
   },
   {
    "duration": 5,
    "start_time": "2022-10-15T10:32:34.216Z"
   },
   {
    "duration": 7,
    "start_time": "2022-10-15T10:32:34.223Z"
   },
   {
    "duration": 7,
    "start_time": "2022-10-15T10:32:34.232Z"
   },
   {
    "duration": 22,
    "start_time": "2022-10-15T10:32:34.241Z"
   },
   {
    "duration": 18,
    "start_time": "2022-10-15T10:32:34.264Z"
   },
   {
    "duration": 5,
    "start_time": "2022-10-15T10:32:34.284Z"
   },
   {
    "duration": 11,
    "start_time": "2022-10-15T10:32:34.291Z"
   },
   {
    "duration": 62,
    "start_time": "2022-10-15T10:32:34.304Z"
   },
   {
    "duration": 95,
    "start_time": "2022-10-15T10:32:34.368Z"
   },
   {
    "duration": 27,
    "start_time": "2022-10-15T10:33:00.049Z"
   },
   {
    "duration": 27,
    "start_time": "2022-10-15T10:33:13.110Z"
   },
   {
    "duration": 26,
    "start_time": "2022-10-15T10:33:45.802Z"
   },
   {
    "duration": 45,
    "start_time": "2022-10-15T10:33:46.897Z"
   },
   {
    "duration": 5,
    "start_time": "2022-10-15T10:33:46.944Z"
   },
   {
    "duration": 6,
    "start_time": "2022-10-15T10:33:46.951Z"
   },
   {
    "duration": 6,
    "start_time": "2022-10-15T10:33:46.959Z"
   },
   {
    "duration": 26,
    "start_time": "2022-10-15T10:33:46.967Z"
   },
   {
    "duration": 17,
    "start_time": "2022-10-15T10:33:46.995Z"
   },
   {
    "duration": 5,
    "start_time": "2022-10-15T10:33:47.014Z"
   },
   {
    "duration": 18,
    "start_time": "2022-10-15T10:33:47.020Z"
   },
   {
    "duration": 58,
    "start_time": "2022-10-15T10:33:47.040Z"
   },
   {
    "duration": 61,
    "start_time": "2022-10-15T10:33:47.100Z"
   },
   {
    "duration": 65,
    "start_time": "2022-10-15T10:38:00.589Z"
   },
   {
    "duration": 27,
    "start_time": "2022-10-15T10:38:15.282Z"
   },
   {
    "duration": 27,
    "start_time": "2022-10-15T10:38:18.595Z"
   },
   {
    "duration": 25,
    "start_time": "2022-10-15T10:38:35.697Z"
   },
   {
    "duration": 6,
    "start_time": "2022-10-15T10:39:23.845Z"
   },
   {
    "duration": 20,
    "start_time": "2022-10-15T10:39:29.702Z"
   },
   {
    "duration": 45,
    "start_time": "2022-10-15T10:40:06.950Z"
   },
   {
    "duration": 5,
    "start_time": "2022-10-15T10:40:06.996Z"
   },
   {
    "duration": 18,
    "start_time": "2022-10-15T10:40:07.002Z"
   },
   {
    "duration": 13,
    "start_time": "2022-10-15T10:40:07.022Z"
   },
   {
    "duration": 24,
    "start_time": "2022-10-15T10:40:07.037Z"
   },
   {
    "duration": 17,
    "start_time": "2022-10-15T10:40:07.063Z"
   },
   {
    "duration": 22,
    "start_time": "2022-10-15T10:40:07.082Z"
   },
   {
    "duration": 19,
    "start_time": "2022-10-15T10:40:07.105Z"
   },
   {
    "duration": 51,
    "start_time": "2022-10-15T10:40:07.126Z"
   },
   {
    "duration": 77,
    "start_time": "2022-10-15T10:40:07.179Z"
   },
   {
    "duration": 116,
    "start_time": "2022-10-15T10:40:07.257Z"
   },
   {
    "duration": 83,
    "start_time": "2022-10-15T10:40:07.375Z"
   },
   {
    "duration": 143,
    "start_time": "2022-10-15T10:40:07.460Z"
   },
   {
    "duration": 119,
    "start_time": "2022-10-15T10:40:07.654Z"
   },
   {
    "duration": 23,
    "start_time": "2022-10-15T10:40:52.777Z"
   },
   {
    "duration": 39,
    "start_time": "2022-10-15T10:40:54.219Z"
   },
   {
    "duration": 6,
    "start_time": "2022-10-15T10:42:17.548Z"
   },
   {
    "duration": 6,
    "start_time": "2022-10-15T10:42:32.507Z"
   },
   {
    "duration": 59,
    "start_time": "2022-10-15T10:43:24.663Z"
   },
   {
    "duration": 23,
    "start_time": "2022-10-15T10:43:47.729Z"
   },
   {
    "duration": 51,
    "start_time": "2022-10-15T10:43:49.586Z"
   },
   {
    "duration": 48,
    "start_time": "2022-10-15T12:43:47.297Z"
   },
   {
    "duration": 5,
    "start_time": "2022-10-15T12:43:47.347Z"
   },
   {
    "duration": 7,
    "start_time": "2022-10-15T12:43:47.353Z"
   },
   {
    "duration": 6,
    "start_time": "2022-10-15T12:43:47.362Z"
   },
   {
    "duration": 20,
    "start_time": "2022-10-15T12:43:47.371Z"
   },
   {
    "duration": 19,
    "start_time": "2022-10-15T12:43:47.393Z"
   },
   {
    "duration": 6,
    "start_time": "2022-10-15T12:43:47.413Z"
   },
   {
    "duration": 33,
    "start_time": "2022-10-15T12:43:47.421Z"
   },
   {
    "duration": 46,
    "start_time": "2022-10-15T12:43:47.456Z"
   },
   {
    "duration": 56,
    "start_time": "2022-10-15T12:43:47.503Z"
   },
   {
    "duration": 194,
    "start_time": "2022-10-15T12:43:47.561Z"
   },
   {
    "duration": 98,
    "start_time": "2022-10-15T12:43:47.757Z"
   },
   {
    "duration": 39,
    "start_time": "2022-10-15T12:43:47.857Z"
   },
   {
    "duration": 129,
    "start_time": "2022-10-15T12:43:47.953Z"
   },
   {
    "duration": 10,
    "start_time": "2022-10-15T12:43:48.154Z"
   },
   {
    "duration": 14,
    "start_time": "2022-10-15T12:43:48.255Z"
   },
   {
    "duration": 29,
    "start_time": "2022-10-15T12:43:48.271Z"
   },
   {
    "duration": 66,
    "start_time": "2022-10-15T12:43:48.301Z"
   },
   {
    "duration": 49,
    "start_time": "2022-10-15T12:44:04.864Z"
   },
   {
    "duration": 6,
    "start_time": "2022-10-15T12:44:04.915Z"
   },
   {
    "duration": 8,
    "start_time": "2022-10-15T12:44:04.923Z"
   },
   {
    "duration": 14,
    "start_time": "2022-10-15T12:44:04.933Z"
   },
   {
    "duration": 27,
    "start_time": "2022-10-15T12:44:04.950Z"
   },
   {
    "duration": 20,
    "start_time": "2022-10-15T12:44:04.978Z"
   },
   {
    "duration": 7,
    "start_time": "2022-10-15T12:44:05.001Z"
   },
   {
    "duration": 21,
    "start_time": "2022-10-15T12:44:05.010Z"
   },
   {
    "duration": 58,
    "start_time": "2022-10-15T12:44:05.033Z"
   },
   {
    "duration": 65,
    "start_time": "2022-10-15T12:44:05.092Z"
   },
   {
    "duration": 196,
    "start_time": "2022-10-15T12:44:05.158Z"
   },
   {
    "duration": 99,
    "start_time": "2022-10-15T12:44:05.356Z"
   },
   {
    "duration": 97,
    "start_time": "2022-10-15T12:44:05.457Z"
   },
   {
    "duration": 125,
    "start_time": "2022-10-15T12:44:05.560Z"
   },
   {
    "duration": 7,
    "start_time": "2022-10-15T12:44:05.753Z"
   },
   {
    "duration": 103,
    "start_time": "2022-10-15T12:44:05.762Z"
   },
   {
    "duration": 20,
    "start_time": "2022-10-15T12:44:05.867Z"
   },
   {
    "duration": 43,
    "start_time": "2022-10-15T12:44:05.889Z"
   },
   {
    "duration": 4,
    "start_time": "2022-10-15T12:44:33.280Z"
   },
   {
    "duration": 49,
    "start_time": "2022-10-15T12:44:33.287Z"
   },
   {
    "duration": 6,
    "start_time": "2022-10-15T12:44:33.338Z"
   },
   {
    "duration": 12,
    "start_time": "2022-10-15T12:44:33.346Z"
   },
   {
    "duration": 14,
    "start_time": "2022-10-15T12:44:33.360Z"
   },
   {
    "duration": 22,
    "start_time": "2022-10-15T12:44:33.376Z"
   },
   {
    "duration": 19,
    "start_time": "2022-10-15T12:44:33.400Z"
   },
   {
    "duration": 6,
    "start_time": "2022-10-15T12:44:33.420Z"
   },
   {
    "duration": 31,
    "start_time": "2022-10-15T12:44:33.427Z"
   },
   {
    "duration": 37,
    "start_time": "2022-10-15T12:44:33.460Z"
   },
   {
    "duration": 55,
    "start_time": "2022-10-15T12:44:33.499Z"
   },
   {
    "duration": 119,
    "start_time": "2022-10-15T12:44:33.556Z"
   },
   {
    "duration": 7,
    "start_time": "2022-10-15T12:44:33.755Z"
   },
   {
    "duration": 25,
    "start_time": "2022-10-15T12:44:33.854Z"
   },
   {
    "duration": 198,
    "start_time": "2022-10-15T12:44:33.881Z"
   },
   {
    "duration": 100,
    "start_time": "2022-10-15T12:44:34.155Z"
   },
   {
    "duration": 18,
    "start_time": "2022-10-15T12:44:34.257Z"
   },
   {
    "duration": 24,
    "start_time": "2022-10-15T12:44:34.276Z"
   },
   {
    "duration": 40,
    "start_time": "2022-10-15T12:44:34.302Z"
   },
   {
    "duration": 35,
    "start_time": "2022-10-15T12:45:27.643Z"
   },
   {
    "duration": 3,
    "start_time": "2022-10-15T12:45:54.999Z"
   },
   {
    "duration": 54,
    "start_time": "2022-10-15T12:45:55.004Z"
   },
   {
    "duration": 5,
    "start_time": "2022-10-15T12:45:55.059Z"
   },
   {
    "duration": 9,
    "start_time": "2022-10-15T12:45:55.066Z"
   },
   {
    "duration": 7,
    "start_time": "2022-10-15T12:45:55.077Z"
   },
   {
    "duration": 19,
    "start_time": "2022-10-15T12:45:55.086Z"
   },
   {
    "duration": 17,
    "start_time": "2022-10-15T12:45:55.107Z"
   },
   {
    "duration": 30,
    "start_time": "2022-10-15T12:45:55.126Z"
   },
   {
    "duration": 12,
    "start_time": "2022-10-15T12:45:55.158Z"
   },
   {
    "duration": 39,
    "start_time": "2022-10-15T12:45:55.172Z"
   },
   {
    "duration": 43,
    "start_time": "2022-10-15T12:45:55.213Z"
   },
   {
    "duration": 195,
    "start_time": "2022-10-15T12:45:55.258Z"
   },
   {
    "duration": 99,
    "start_time": "2022-10-15T12:45:55.455Z"
   },
   {
    "duration": 28,
    "start_time": "2022-10-15T12:45:55.557Z"
   },
   {
    "duration": 187,
    "start_time": "2022-10-15T12:45:55.586Z"
   },
   {
    "duration": 81,
    "start_time": "2022-10-15T12:45:55.775Z"
   },
   {
    "duration": 105,
    "start_time": "2022-10-15T12:45:55.858Z"
   },
   {
    "duration": 20,
    "start_time": "2022-10-15T12:45:55.965Z"
   },
   {
    "duration": 42,
    "start_time": "2022-10-15T12:45:55.987Z"
   },
   {
    "duration": 322,
    "start_time": "2022-10-15T12:58:47.942Z"
   },
   {
    "duration": 383,
    "start_time": "2022-10-15T12:58:54.977Z"
   },
   {
    "duration": 940,
    "start_time": "2022-10-15T12:58:57.754Z"
   },
   {
    "duration": 958,
    "start_time": "2022-10-15T12:59:11.874Z"
   },
   {
    "duration": 987,
    "start_time": "2022-10-15T12:59:59.761Z"
   },
   {
    "duration": 62,
    "start_time": "2022-10-15T13:00:13.409Z"
   },
   {
    "duration": 954,
    "start_time": "2022-10-15T13:00:19.102Z"
   },
   {
    "duration": 4,
    "start_time": "2022-10-15T13:01:18.776Z"
   },
   {
    "duration": 52,
    "start_time": "2022-10-15T13:01:18.782Z"
   },
   {
    "duration": 5,
    "start_time": "2022-10-15T13:01:18.835Z"
   },
   {
    "duration": 6,
    "start_time": "2022-10-15T13:01:18.841Z"
   },
   {
    "duration": 5,
    "start_time": "2022-10-15T13:01:18.849Z"
   },
   {
    "duration": 21,
    "start_time": "2022-10-15T13:01:18.855Z"
   },
   {
    "duration": 0,
    "start_time": "2022-10-15T13:01:18.878Z"
   },
   {
    "duration": 0,
    "start_time": "2022-10-15T13:01:18.879Z"
   },
   {
    "duration": 0,
    "start_time": "2022-10-15T13:01:18.880Z"
   },
   {
    "duration": 0,
    "start_time": "2022-10-15T13:01:18.881Z"
   },
   {
    "duration": 0,
    "start_time": "2022-10-15T13:01:18.882Z"
   },
   {
    "duration": 0,
    "start_time": "2022-10-15T13:01:18.883Z"
   },
   {
    "duration": 0,
    "start_time": "2022-10-15T13:01:18.884Z"
   },
   {
    "duration": 0,
    "start_time": "2022-10-15T13:01:18.885Z"
   },
   {
    "duration": 0,
    "start_time": "2022-10-15T13:01:18.886Z"
   },
   {
    "duration": 0,
    "start_time": "2022-10-15T13:01:18.888Z"
   },
   {
    "duration": 0,
    "start_time": "2022-10-15T13:01:18.888Z"
   },
   {
    "duration": 0,
    "start_time": "2022-10-15T13:01:18.890Z"
   },
   {
    "duration": 0,
    "start_time": "2022-10-15T13:01:18.891Z"
   },
   {
    "duration": 0,
    "start_time": "2022-10-15T13:01:18.892Z"
   },
   {
    "duration": 0,
    "start_time": "2022-10-15T13:01:18.893Z"
   },
   {
    "duration": 1,
    "start_time": "2022-10-15T13:01:18.893Z"
   },
   {
    "duration": 4,
    "start_time": "2022-10-15T13:01:43.474Z"
   },
   {
    "duration": 54,
    "start_time": "2022-10-15T13:01:43.480Z"
   },
   {
    "duration": 6,
    "start_time": "2022-10-15T13:01:43.536Z"
   },
   {
    "duration": 5,
    "start_time": "2022-10-15T13:01:43.544Z"
   },
   {
    "duration": 7,
    "start_time": "2022-10-15T13:01:43.552Z"
   },
   {
    "duration": 20,
    "start_time": "2022-10-15T13:01:43.561Z"
   },
   {
    "duration": 18,
    "start_time": "2022-10-15T13:01:43.583Z"
   },
   {
    "duration": 8,
    "start_time": "2022-10-15T13:01:43.603Z"
   },
   {
    "duration": 15,
    "start_time": "2022-10-15T13:01:43.613Z"
   },
   {
    "duration": 60,
    "start_time": "2022-10-15T13:01:43.630Z"
   },
   {
    "duration": 63,
    "start_time": "2022-10-15T13:01:43.692Z"
   },
   {
    "duration": 112,
    "start_time": "2022-10-15T13:01:43.756Z"
   },
   {
    "duration": 185,
    "start_time": "2022-10-15T13:01:43.869Z"
   },
   {
    "duration": 20,
    "start_time": "2022-10-15T13:01:44.057Z"
   },
   {
    "duration": 121,
    "start_time": "2022-10-15T13:01:44.154Z"
   },
   {
    "duration": 83,
    "start_time": "2022-10-15T13:01:44.277Z"
   },
   {
    "duration": 112,
    "start_time": "2022-10-15T13:01:44.361Z"
   },
   {
    "duration": 29,
    "start_time": "2022-10-15T13:01:44.475Z"
   },
   {
    "duration": 51,
    "start_time": "2022-10-15T13:01:44.506Z"
   },
   {
    "duration": 375,
    "start_time": "2022-10-15T13:01:44.559Z"
   },
   {
    "duration": 977,
    "start_time": "2022-10-15T13:01:44.936Z"
   },
   {
    "duration": 66,
    "start_time": "2022-10-15T13:01:45.914Z"
   },
   {
    "duration": 64,
    "start_time": "2022-10-15T13:03:35.641Z"
   },
   {
    "duration": 62,
    "start_time": "2022-10-15T13:03:47.147Z"
   },
   {
    "duration": 13,
    "start_time": "2022-10-15T13:04:30.595Z"
   },
   {
    "duration": 6,
    "start_time": "2022-10-15T13:04:51.519Z"
   },
   {
    "duration": 87,
    "start_time": "2022-10-15T13:04:51.527Z"
   },
   {
    "duration": 7,
    "start_time": "2022-10-15T13:04:51.617Z"
   },
   {
    "duration": 24,
    "start_time": "2022-10-15T13:04:51.625Z"
   },
   {
    "duration": 45,
    "start_time": "2022-10-15T13:04:51.652Z"
   },
   {
    "duration": 36,
    "start_time": "2022-10-15T13:04:51.700Z"
   },
   {
    "duration": 35,
    "start_time": "2022-10-15T13:04:51.739Z"
   },
   {
    "duration": 22,
    "start_time": "2022-10-15T13:04:51.776Z"
   },
   {
    "duration": 24,
    "start_time": "2022-10-15T13:04:51.800Z"
   },
   {
    "duration": 55,
    "start_time": "2022-10-15T13:04:51.826Z"
   },
   {
    "duration": 71,
    "start_time": "2022-10-15T13:04:51.882Z"
   },
   {
    "duration": 141,
    "start_time": "2022-10-15T13:04:51.959Z"
   },
   {
    "duration": 55,
    "start_time": "2022-10-15T13:04:52.104Z"
   },
   {
    "duration": 130,
    "start_time": "2022-10-15T13:04:52.163Z"
   },
   {
    "duration": 176,
    "start_time": "2022-10-15T13:04:52.295Z"
   },
   {
    "duration": 184,
    "start_time": "2022-10-15T13:04:52.475Z"
   },
   {
    "duration": 50,
    "start_time": "2022-10-15T13:04:52.662Z"
   },
   {
    "duration": 43,
    "start_time": "2022-10-15T13:04:52.714Z"
   },
   {
    "duration": 50,
    "start_time": "2022-10-15T13:04:52.759Z"
   },
   {
    "duration": 372,
    "start_time": "2022-10-15T13:04:52.811Z"
   },
   {
    "duration": 1027,
    "start_time": "2022-10-15T13:04:53.185Z"
   },
   {
    "duration": 68,
    "start_time": "2022-10-15T13:04:54.214Z"
   },
   {
    "duration": 71,
    "start_time": "2022-10-15T13:04:54.283Z"
   },
   {
    "duration": 13,
    "start_time": "2022-10-15T13:04:54.356Z"
   },
   {
    "duration": 4,
    "start_time": "2022-10-15T13:05:14.716Z"
   },
   {
    "duration": 4,
    "start_time": "2022-10-15T13:05:16.014Z"
   },
   {
    "duration": 62,
    "start_time": "2022-10-15T13:05:16.021Z"
   },
   {
    "duration": 5,
    "start_time": "2022-10-15T13:05:16.085Z"
   },
   {
    "duration": 16,
    "start_time": "2022-10-15T13:05:16.092Z"
   },
   {
    "duration": 7,
    "start_time": "2022-10-15T13:05:16.110Z"
   },
   {
    "duration": 38,
    "start_time": "2022-10-15T13:05:16.119Z"
   },
   {
    "duration": 19,
    "start_time": "2022-10-15T13:05:16.159Z"
   },
   {
    "duration": 20,
    "start_time": "2022-10-15T13:05:16.180Z"
   },
   {
    "duration": 20,
    "start_time": "2022-10-15T13:05:16.202Z"
   },
   {
    "duration": 51,
    "start_time": "2022-10-15T13:05:16.224Z"
   },
   {
    "duration": 80,
    "start_time": "2022-10-15T13:05:16.276Z"
   },
   {
    "duration": 118,
    "start_time": "2022-10-15T13:05:16.358Z"
   },
   {
    "duration": 102,
    "start_time": "2022-10-15T13:05:16.555Z"
   },
   {
    "duration": 37,
    "start_time": "2022-10-15T13:05:16.660Z"
   },
   {
    "duration": 188,
    "start_time": "2022-10-15T13:05:16.699Z"
   },
   {
    "duration": 170,
    "start_time": "2022-10-15T13:05:16.890Z"
   },
   {
    "duration": 20,
    "start_time": "2022-10-15T13:05:17.062Z"
   },
   {
    "duration": 36,
    "start_time": "2022-10-15T13:05:17.084Z"
   },
   {
    "duration": 53,
    "start_time": "2022-10-15T13:05:17.121Z"
   },
   {
    "duration": 396,
    "start_time": "2022-10-15T13:05:17.176Z"
   },
   {
    "duration": 1120,
    "start_time": "2022-10-15T13:05:17.574Z"
   },
   {
    "duration": 81,
    "start_time": "2022-10-15T13:05:18.700Z"
   },
   {
    "duration": 70,
    "start_time": "2022-10-15T13:05:18.784Z"
   },
   {
    "duration": 140,
    "start_time": "2022-10-15T13:05:18.856Z"
   },
   {
    "duration": 4,
    "start_time": "2022-10-15T13:07:02.393Z"
   },
   {
    "duration": 83,
    "start_time": "2022-10-15T13:07:02.399Z"
   },
   {
    "duration": 9,
    "start_time": "2022-10-15T13:07:02.483Z"
   },
   {
    "duration": 39,
    "start_time": "2022-10-15T13:07:02.494Z"
   },
   {
    "duration": 11,
    "start_time": "2022-10-15T13:07:02.536Z"
   },
   {
    "duration": 28,
    "start_time": "2022-10-15T13:07:02.548Z"
   },
   {
    "duration": 18,
    "start_time": "2022-10-15T13:07:02.577Z"
   },
   {
    "duration": 27,
    "start_time": "2022-10-15T13:07:02.597Z"
   },
   {
    "duration": 21,
    "start_time": "2022-10-15T13:07:02.626Z"
   },
   {
    "duration": 39,
    "start_time": "2022-10-15T13:07:02.649Z"
   },
   {
    "duration": 71,
    "start_time": "2022-10-15T13:07:02.690Z"
   },
   {
    "duration": 109,
    "start_time": "2022-10-15T13:07:02.763Z"
   },
   {
    "duration": 192,
    "start_time": "2022-10-15T13:07:02.874Z"
   },
   {
    "duration": 45,
    "start_time": "2022-10-15T13:07:03.069Z"
   },
   {
    "duration": 203,
    "start_time": "2022-10-15T13:07:03.154Z"
   },
   {
    "duration": 97,
    "start_time": "2022-10-15T13:07:03.361Z"
   },
   {
    "duration": 25,
    "start_time": "2022-10-15T13:07:03.460Z"
   },
   {
    "duration": 58,
    "start_time": "2022-10-15T13:07:03.487Z"
   },
   {
    "duration": 419,
    "start_time": "2022-10-15T13:07:03.546Z"
   },
   {
    "duration": 1003,
    "start_time": "2022-10-15T13:07:03.967Z"
   },
   {
    "duration": 43,
    "start_time": "2022-10-15T13:07:04.971Z"
   },
   {
    "duration": 8,
    "start_time": "2022-10-15T13:07:05.016Z"
   },
   {
    "duration": 28,
    "start_time": "2022-10-15T13:07:05.027Z"
   },
   {
    "duration": 138,
    "start_time": "2022-10-15T13:07:05.058Z"
   },
   {
    "duration": 4,
    "start_time": "2022-10-15T13:07:16.192Z"
   },
   {
    "duration": 61,
    "start_time": "2022-10-15T13:07:16.199Z"
   },
   {
    "duration": 7,
    "start_time": "2022-10-15T13:07:16.262Z"
   },
   {
    "duration": 15,
    "start_time": "2022-10-15T13:07:16.270Z"
   },
   {
    "duration": 5,
    "start_time": "2022-10-15T13:07:16.289Z"
   },
   {
    "duration": 25,
    "start_time": "2022-10-15T13:07:16.296Z"
   },
   {
    "duration": 18,
    "start_time": "2022-10-15T13:07:16.323Z"
   },
   {
    "duration": 6,
    "start_time": "2022-10-15T13:07:16.353Z"
   },
   {
    "duration": 15,
    "start_time": "2022-10-15T13:07:16.361Z"
   },
   {
    "duration": 48,
    "start_time": "2022-10-15T13:07:16.378Z"
   },
   {
    "duration": 50,
    "start_time": "2022-10-15T13:07:16.429Z"
   },
   {
    "duration": 187,
    "start_time": "2022-10-15T13:07:16.481Z"
   },
   {
    "duration": 90,
    "start_time": "2022-10-15T13:07:16.671Z"
   },
   {
    "duration": 119,
    "start_time": "2022-10-15T13:07:16.764Z"
   },
   {
    "duration": 185,
    "start_time": "2022-10-15T13:07:16.885Z"
   },
   {
    "duration": 84,
    "start_time": "2022-10-15T13:07:17.072Z"
   },
   {
    "duration": 100,
    "start_time": "2022-10-15T13:07:17.158Z"
   },
   {
    "duration": 22,
    "start_time": "2022-10-15T13:07:17.261Z"
   },
   {
    "duration": 44,
    "start_time": "2022-10-15T13:07:17.285Z"
   },
   {
    "duration": 402,
    "start_time": "2022-10-15T13:07:17.354Z"
   },
   {
    "duration": 1046,
    "start_time": "2022-10-15T13:07:17.758Z"
   },
   {
    "duration": 68,
    "start_time": "2022-10-15T13:07:18.806Z"
   },
   {
    "duration": 67,
    "start_time": "2022-10-15T13:07:18.875Z"
   },
   {
    "duration": 132,
    "start_time": "2022-10-15T13:07:18.954Z"
   },
   {
    "duration": 6,
    "start_time": "2022-10-15T13:09:12.383Z"
   },
   {
    "duration": 68,
    "start_time": "2022-10-15T13:09:12.392Z"
   },
   {
    "duration": 6,
    "start_time": "2022-10-15T13:09:12.464Z"
   },
   {
    "duration": 11,
    "start_time": "2022-10-15T13:09:12.472Z"
   },
   {
    "duration": 7,
    "start_time": "2022-10-15T13:09:12.485Z"
   },
   {
    "duration": 25,
    "start_time": "2022-10-15T13:09:12.494Z"
   },
   {
    "duration": 39,
    "start_time": "2022-10-15T13:09:12.521Z"
   },
   {
    "duration": 6,
    "start_time": "2022-10-15T13:09:12.562Z"
   },
   {
    "duration": 11,
    "start_time": "2022-10-15T13:09:12.569Z"
   },
   {
    "duration": 35,
    "start_time": "2022-10-15T13:09:12.582Z"
   },
   {
    "duration": 54,
    "start_time": "2022-10-15T13:09:12.619Z"
   },
   {
    "duration": 201,
    "start_time": "2022-10-15T13:09:12.675Z"
   },
   {
    "duration": 87,
    "start_time": "2022-10-15T13:09:12.877Z"
   },
   {
    "duration": 187,
    "start_time": "2022-10-15T13:09:12.968Z"
   },
   {
    "duration": 198,
    "start_time": "2022-10-15T13:09:13.161Z"
   },
   {
    "duration": 111,
    "start_time": "2022-10-15T13:09:13.362Z"
   },
   {
    "duration": 46,
    "start_time": "2022-10-15T13:09:13.475Z"
   },
   {
    "duration": 413,
    "start_time": "2022-10-15T13:09:13.522Z"
   },
   {
    "duration": 978,
    "start_time": "2022-10-15T13:09:13.937Z"
   },
   {
    "duration": 70,
    "start_time": "2022-10-15T13:09:14.916Z"
   },
   {
    "duration": 75,
    "start_time": "2022-10-15T13:09:14.987Z"
   },
   {
    "duration": 135,
    "start_time": "2022-10-15T13:09:15.064Z"
   },
   {
    "duration": 5,
    "start_time": "2022-10-15T13:09:39.091Z"
   },
   {
    "duration": 72,
    "start_time": "2022-10-15T13:09:39.098Z"
   },
   {
    "duration": 5,
    "start_time": "2022-10-15T13:09:39.172Z"
   },
   {
    "duration": 15,
    "start_time": "2022-10-15T13:09:39.178Z"
   },
   {
    "duration": 20,
    "start_time": "2022-10-15T13:09:39.196Z"
   },
   {
    "duration": 38,
    "start_time": "2022-10-15T13:09:39.218Z"
   },
   {
    "duration": 18,
    "start_time": "2022-10-15T13:09:39.258Z"
   },
   {
    "duration": 7,
    "start_time": "2022-10-15T13:09:39.277Z"
   },
   {
    "duration": 12,
    "start_time": "2022-10-15T13:09:39.286Z"
   },
   {
    "duration": 54,
    "start_time": "2022-10-15T13:09:39.300Z"
   },
   {
    "duration": 26,
    "start_time": "2022-10-15T13:09:39.355Z"
   },
   {
    "duration": 123,
    "start_time": "2022-10-15T13:09:39.455Z"
   },
   {
    "duration": 74,
    "start_time": "2022-10-15T13:09:39.580Z"
   },
   {
    "duration": 150,
    "start_time": "2022-10-15T13:09:39.658Z"
   },
   {
    "duration": 177,
    "start_time": "2022-10-15T13:09:39.812Z"
   },
   {
    "duration": 116,
    "start_time": "2022-10-15T13:09:40.056Z"
   },
   {
    "duration": 53,
    "start_time": "2022-10-15T13:09:40.174Z"
   },
   {
    "duration": 385,
    "start_time": "2022-10-15T13:09:40.229Z"
   },
   {
    "duration": 1060,
    "start_time": "2022-10-15T13:09:40.616Z"
   },
   {
    "duration": 86,
    "start_time": "2022-10-15T13:09:41.679Z"
   },
   {
    "duration": 75,
    "start_time": "2022-10-15T13:09:41.767Z"
   },
   {
    "duration": 148,
    "start_time": "2022-10-15T13:09:41.855Z"
   },
   {
    "duration": 5,
    "start_time": "2022-10-15T13:10:58.951Z"
   },
   {
    "duration": 54,
    "start_time": "2022-10-15T13:10:58.958Z"
   },
   {
    "duration": 5,
    "start_time": "2022-10-15T13:10:59.014Z"
   },
   {
    "duration": 24,
    "start_time": "2022-10-15T13:10:59.021Z"
   },
   {
    "duration": 30,
    "start_time": "2022-10-15T13:10:59.046Z"
   },
   {
    "duration": 30,
    "start_time": "2022-10-15T13:10:59.078Z"
   },
   {
    "duration": 24,
    "start_time": "2022-10-15T13:10:59.110Z"
   },
   {
    "duration": 6,
    "start_time": "2022-10-15T13:10:59.136Z"
   },
   {
    "duration": 37,
    "start_time": "2022-10-15T13:10:59.144Z"
   },
   {
    "duration": 45,
    "start_time": "2022-10-15T13:10:59.184Z"
   },
   {
    "duration": 37,
    "start_time": "2022-10-15T13:10:59.231Z"
   },
   {
    "duration": 214,
    "start_time": "2022-10-15T13:10:59.269Z"
   },
   {
    "duration": 76,
    "start_time": "2022-10-15T13:10:59.485Z"
   },
   {
    "duration": 130,
    "start_time": "2022-10-15T13:10:59.565Z"
   },
   {
    "duration": 196,
    "start_time": "2022-10-15T13:10:59.757Z"
   },
   {
    "duration": 110,
    "start_time": "2022-10-15T13:10:59.957Z"
   },
   {
    "duration": 48,
    "start_time": "2022-10-15T13:11:00.069Z"
   },
   {
    "duration": 435,
    "start_time": "2022-10-15T13:11:00.119Z"
   },
   {
    "duration": 1074,
    "start_time": "2022-10-15T13:11:00.556Z"
   },
   {
    "duration": 80,
    "start_time": "2022-10-15T13:11:01.634Z"
   },
   {
    "duration": 74,
    "start_time": "2022-10-15T13:11:01.716Z"
   },
   {
    "duration": 144,
    "start_time": "2022-10-15T13:11:01.792Z"
   },
   {
    "duration": 4,
    "start_time": "2022-10-15T13:12:21.957Z"
   },
   {
    "duration": 81,
    "start_time": "2022-10-15T13:12:21.964Z"
   },
   {
    "duration": 3,
    "start_time": "2022-10-15T13:12:22.046Z"
   },
   {
    "duration": 23,
    "start_time": "2022-10-15T13:12:22.051Z"
   },
   {
    "duration": 19,
    "start_time": "2022-10-15T13:12:22.078Z"
   },
   {
    "duration": 23,
    "start_time": "2022-10-15T13:12:22.100Z"
   },
   {
    "duration": 19,
    "start_time": "2022-10-15T13:12:22.124Z"
   },
   {
    "duration": 5,
    "start_time": "2022-10-15T13:12:22.145Z"
   },
   {
    "duration": 27,
    "start_time": "2022-10-15T13:12:22.153Z"
   },
   {
    "duration": 59,
    "start_time": "2022-10-15T13:12:22.182Z"
   },
   {
    "duration": 30,
    "start_time": "2022-10-15T13:12:22.243Z"
   },
   {
    "duration": 194,
    "start_time": "2022-10-15T13:12:22.274Z"
   },
   {
    "duration": 88,
    "start_time": "2022-10-15T13:12:22.470Z"
   },
   {
    "duration": 191,
    "start_time": "2022-10-15T13:12:22.563Z"
   },
   {
    "duration": 129,
    "start_time": "2022-10-15T13:12:22.757Z"
   },
   {
    "duration": 171,
    "start_time": "2022-10-15T13:12:22.888Z"
   },
   {
    "duration": 73,
    "start_time": "2022-10-15T13:12:23.061Z"
   },
   {
    "duration": 404,
    "start_time": "2022-10-15T13:12:23.136Z"
   },
   {
    "duration": 991,
    "start_time": "2022-10-15T13:12:23.542Z"
   },
   {
    "duration": 69,
    "start_time": "2022-10-15T13:12:24.535Z"
   },
   {
    "duration": 73,
    "start_time": "2022-10-15T13:12:24.606Z"
   },
   {
    "duration": 142,
    "start_time": "2022-10-15T13:12:24.681Z"
   },
   {
    "duration": 5,
    "start_time": "2022-10-15T13:19:41.810Z"
   },
   {
    "duration": 51,
    "start_time": "2022-10-15T13:19:41.817Z"
   },
   {
    "duration": 3,
    "start_time": "2022-10-15T13:19:41.870Z"
   },
   {
    "duration": 11,
    "start_time": "2022-10-15T13:19:41.874Z"
   },
   {
    "duration": 9,
    "start_time": "2022-10-15T13:19:41.887Z"
   },
   {
    "duration": 20,
    "start_time": "2022-10-15T13:19:41.898Z"
   },
   {
    "duration": 34,
    "start_time": "2022-10-15T13:19:41.920Z"
   },
   {
    "duration": 5,
    "start_time": "2022-10-15T13:19:41.956Z"
   },
   {
    "duration": 11,
    "start_time": "2022-10-15T13:19:41.963Z"
   },
   {
    "duration": 37,
    "start_time": "2022-10-15T13:19:41.976Z"
   },
   {
    "duration": 50,
    "start_time": "2022-10-15T13:19:42.015Z"
   },
   {
    "duration": 197,
    "start_time": "2022-10-15T13:19:42.066Z"
   },
   {
    "duration": 90,
    "start_time": "2022-10-15T13:19:42.265Z"
   },
   {
    "duration": 111,
    "start_time": "2022-10-15T13:19:42.358Z"
   },
   {
    "duration": 9,
    "start_time": "2022-10-15T13:19:42.471Z"
   },
   {
    "duration": 0,
    "start_time": "2022-10-15T13:19:42.482Z"
   },
   {
    "duration": 0,
    "start_time": "2022-10-15T13:19:42.484Z"
   },
   {
    "duration": 0,
    "start_time": "2022-10-15T13:19:42.484Z"
   },
   {
    "duration": 0,
    "start_time": "2022-10-15T13:19:42.485Z"
   },
   {
    "duration": 0,
    "start_time": "2022-10-15T13:19:42.486Z"
   },
   {
    "duration": 0,
    "start_time": "2022-10-15T13:19:42.488Z"
   },
   {
    "duration": 0,
    "start_time": "2022-10-15T13:19:42.489Z"
   },
   {
    "duration": 0,
    "start_time": "2022-10-15T13:19:42.490Z"
   },
   {
    "duration": 0,
    "start_time": "2022-10-15T13:19:42.490Z"
   },
   {
    "duration": 12,
    "start_time": "2022-10-15T13:21:36.021Z"
   },
   {
    "duration": 5,
    "start_time": "2022-10-15T13:21:37.605Z"
   },
   {
    "duration": 14,
    "start_time": "2022-10-15T13:21:39.286Z"
   },
   {
    "duration": 13,
    "start_time": "2022-10-15T13:21:43.864Z"
   },
   {
    "duration": 5,
    "start_time": "2022-10-15T13:21:48.148Z"
   },
   {
    "duration": 91,
    "start_time": "2022-10-15T13:21:48.155Z"
   },
   {
    "duration": 4,
    "start_time": "2022-10-15T13:21:48.248Z"
   },
   {
    "duration": 9,
    "start_time": "2022-10-15T13:21:48.253Z"
   },
   {
    "duration": 10,
    "start_time": "2022-10-15T13:21:48.265Z"
   },
   {
    "duration": 22,
    "start_time": "2022-10-15T13:21:48.277Z"
   },
   {
    "duration": 16,
    "start_time": "2022-10-15T13:21:48.301Z"
   },
   {
    "duration": 19,
    "start_time": "2022-10-15T13:21:48.318Z"
   },
   {
    "duration": 16,
    "start_time": "2022-10-15T13:21:48.338Z"
   },
   {
    "duration": 37,
    "start_time": "2022-10-15T13:21:48.355Z"
   },
   {
    "duration": 63,
    "start_time": "2022-10-15T13:21:48.394Z"
   },
   {
    "duration": 112,
    "start_time": "2022-10-15T13:21:48.460Z"
   },
   {
    "duration": 82,
    "start_time": "2022-10-15T13:21:48.575Z"
   },
   {
    "duration": 105,
    "start_time": "2022-10-15T13:21:48.662Z"
   },
   {
    "duration": 21,
    "start_time": "2022-10-15T13:21:48.769Z"
   },
   {
    "duration": 14,
    "start_time": "2022-10-15T13:21:48.792Z"
   },
   {
    "duration": 116,
    "start_time": "2022-10-15T13:21:48.855Z"
   },
   {
    "duration": 181,
    "start_time": "2022-10-15T13:21:48.973Z"
   },
   {
    "duration": 22,
    "start_time": "2022-10-15T13:21:49.156Z"
   },
   {
    "duration": 245,
    "start_time": "2022-10-15T13:21:49.179Z"
   },
   {
    "duration": 405,
    "start_time": "2022-10-15T13:21:49.426Z"
   },
   {
    "duration": 55,
    "start_time": "2022-10-15T13:21:49.833Z"
   },
   {
    "duration": 64,
    "start_time": "2022-10-15T13:21:49.890Z"
   },
   {
    "duration": 132,
    "start_time": "2022-10-15T13:21:49.956Z"
   },
   {
    "duration": 4,
    "start_time": "2022-10-15T13:23:58.745Z"
   },
   {
    "duration": 62,
    "start_time": "2022-10-15T13:23:58.751Z"
   },
   {
    "duration": 3,
    "start_time": "2022-10-15T13:23:58.815Z"
   },
   {
    "duration": 35,
    "start_time": "2022-10-15T13:23:58.820Z"
   },
   {
    "duration": 20,
    "start_time": "2022-10-15T13:23:58.857Z"
   },
   {
    "duration": 33,
    "start_time": "2022-10-15T13:23:58.879Z"
   },
   {
    "duration": 22,
    "start_time": "2022-10-15T13:23:58.915Z"
   },
   {
    "duration": 33,
    "start_time": "2022-10-15T13:23:58.939Z"
   },
   {
    "duration": 35,
    "start_time": "2022-10-15T13:23:58.974Z"
   },
   {
    "duration": 53,
    "start_time": "2022-10-15T13:23:59.012Z"
   },
   {
    "duration": 88,
    "start_time": "2022-10-15T13:23:59.067Z"
   },
   {
    "duration": 107,
    "start_time": "2022-10-15T13:23:59.157Z"
   },
   {
    "duration": 94,
    "start_time": "2022-10-15T13:23:59.267Z"
   },
   {
    "duration": 128,
    "start_time": "2022-10-15T13:23:59.364Z"
   },
   {
    "duration": 18,
    "start_time": "2022-10-15T13:23:59.494Z"
   },
   {
    "duration": 148,
    "start_time": "2022-10-15T13:23:59.514Z"
   },
   {
    "duration": 43,
    "start_time": "2022-10-15T13:23:59.665Z"
   },
   {
    "duration": 389,
    "start_time": "2022-10-15T13:23:59.709Z"
   },
   {
    "duration": 975,
    "start_time": "2022-10-15T13:24:00.100Z"
   },
   {
    "duration": 60,
    "start_time": "2022-10-15T13:24:01.077Z"
   },
   {
    "duration": 71,
    "start_time": "2022-10-15T13:24:01.139Z"
   },
   {
    "duration": 136,
    "start_time": "2022-10-15T13:24:01.212Z"
   },
   {
    "duration": 973,
    "start_time": "2022-10-15T13:25:36.713Z"
   },
   {
    "duration": 42,
    "start_time": "2022-10-15T13:26:21.563Z"
   },
   {
    "duration": 42,
    "start_time": "2022-10-15T13:26:34.009Z"
   },
   {
    "duration": 928,
    "start_time": "2022-10-15T13:26:56.320Z"
   },
   {
    "duration": 5,
    "start_time": "2022-10-15T13:27:55.408Z"
   },
   {
    "duration": 17964,
    "start_time": "2022-10-15T13:28:02.782Z"
   },
   {
    "duration": 112660,
    "start_time": "2022-10-15T13:28:48.781Z"
   },
   {
    "duration": 757,
    "start_time": "2022-10-15T13:31:13.592Z"
   },
   {
    "duration": 51,
    "start_time": "2022-10-15T13:31:31.313Z"
   },
   {
    "duration": 1136,
    "start_time": "2022-10-15T13:31:39.799Z"
   },
   {
    "duration": 73,
    "start_time": "2022-10-15T13:31:44.656Z"
   },
   {
    "duration": 924,
    "start_time": "2022-10-15T13:31:53.516Z"
   },
   {
    "duration": 59,
    "start_time": "2022-10-15T13:31:56.698Z"
   },
   {
    "duration": 62,
    "start_time": "2022-10-15T13:32:00.730Z"
   },
   {
    "duration": 4,
    "start_time": "2022-10-15T13:33:33.774Z"
   },
   {
    "duration": 14,
    "start_time": "2022-10-15T13:33:41.187Z"
   },
   {
    "duration": 13,
    "start_time": "2022-10-15T13:34:10.072Z"
   },
   {
    "duration": 124,
    "start_time": "2022-10-15T13:34:13.174Z"
   },
   {
    "duration": 4,
    "start_time": "2022-10-15T13:34:16.590Z"
   },
   {
    "duration": 61,
    "start_time": "2022-10-15T13:34:16.596Z"
   },
   {
    "duration": 3,
    "start_time": "2022-10-15T13:34:16.659Z"
   },
   {
    "duration": 15,
    "start_time": "2022-10-15T13:34:16.664Z"
   },
   {
    "duration": 5,
    "start_time": "2022-10-15T13:34:16.682Z"
   },
   {
    "duration": 28,
    "start_time": "2022-10-15T13:34:16.689Z"
   },
   {
    "duration": 16,
    "start_time": "2022-10-15T13:34:16.718Z"
   },
   {
    "duration": 5,
    "start_time": "2022-10-15T13:34:16.736Z"
   },
   {
    "duration": 12,
    "start_time": "2022-10-15T13:34:16.754Z"
   },
   {
    "duration": 39,
    "start_time": "2022-10-15T13:34:16.767Z"
   },
   {
    "duration": 53,
    "start_time": "2022-10-15T13:34:16.808Z"
   },
   {
    "duration": 111,
    "start_time": "2022-10-15T13:34:16.863Z"
   },
   {
    "duration": 8,
    "start_time": "2022-10-15T13:34:17.054Z"
   },
   {
    "duration": 16,
    "start_time": "2022-10-15T13:34:17.157Z"
   },
   {
    "duration": 78,
    "start_time": "2022-10-15T13:34:17.175Z"
   },
   {
    "duration": 116,
    "start_time": "2022-10-15T13:34:17.256Z"
   },
   {
    "duration": 48,
    "start_time": "2022-10-15T13:34:17.374Z"
   },
   {
    "duration": 57,
    "start_time": "2022-10-15T13:34:17.424Z"
   },
   {
    "duration": 381,
    "start_time": "2022-10-15T13:34:17.482Z"
   },
   {
    "duration": 1197,
    "start_time": "2022-10-15T13:34:17.864Z"
   },
   {
    "duration": 953,
    "start_time": "2022-10-15T13:34:19.063Z"
   },
   {
    "duration": 66,
    "start_time": "2022-10-15T13:34:20.017Z"
   },
   {
    "duration": 72,
    "start_time": "2022-10-15T13:34:20.085Z"
   },
   {
    "duration": 176,
    "start_time": "2022-10-15T13:34:20.159Z"
   },
   {
    "duration": 133,
    "start_time": "2022-10-15T13:34:20.337Z"
   },
   {
    "duration": 5,
    "start_time": "2022-10-15T13:34:58.214Z"
   },
   {
    "duration": 50,
    "start_time": "2022-10-15T13:34:58.222Z"
   },
   {
    "duration": 3,
    "start_time": "2022-10-15T13:34:58.274Z"
   },
   {
    "duration": 6,
    "start_time": "2022-10-15T13:34:58.280Z"
   },
   {
    "duration": 13,
    "start_time": "2022-10-15T13:34:58.287Z"
   },
   {
    "duration": 19,
    "start_time": "2022-10-15T13:34:58.301Z"
   },
   {
    "duration": 36,
    "start_time": "2022-10-15T13:34:58.322Z"
   },
   {
    "duration": 6,
    "start_time": "2022-10-15T13:34:58.360Z"
   },
   {
    "duration": 22,
    "start_time": "2022-10-15T13:34:58.368Z"
   },
   {
    "duration": 43,
    "start_time": "2022-10-15T13:34:58.393Z"
   },
   {
    "duration": 29,
    "start_time": "2022-10-15T13:34:58.438Z"
   },
   {
    "duration": 203,
    "start_time": "2022-10-15T13:34:58.468Z"
   },
   {
    "duration": 9,
    "start_time": "2022-10-15T13:34:58.754Z"
   },
   {
    "duration": 29,
    "start_time": "2022-10-15T13:34:58.855Z"
   },
   {
    "duration": 14,
    "start_time": "2022-10-15T13:34:58.886Z"
   },
   {
    "duration": 107,
    "start_time": "2022-10-15T13:34:58.953Z"
   },
   {
    "duration": 45,
    "start_time": "2022-10-15T13:34:59.062Z"
   },
   {
    "duration": 62,
    "start_time": "2022-10-15T13:34:59.109Z"
   },
   {
    "duration": 392,
    "start_time": "2022-10-15T13:34:59.172Z"
   },
   {
    "duration": 1160,
    "start_time": "2022-10-15T13:34:59.566Z"
   },
   {
    "duration": 1126,
    "start_time": "2022-10-15T13:35:00.728Z"
   },
   {
    "duration": 71,
    "start_time": "2022-10-15T13:35:01.857Z"
   },
   {
    "duration": 78,
    "start_time": "2022-10-15T13:35:01.930Z"
   },
   {
    "duration": 194,
    "start_time": "2022-10-15T13:35:02.009Z"
   },
   {
    "duration": 135,
    "start_time": "2022-10-15T13:35:02.205Z"
   },
   {
    "duration": 5,
    "start_time": "2022-10-15T13:36:14.199Z"
   },
   {
    "duration": 52,
    "start_time": "2022-10-15T13:36:14.207Z"
   },
   {
    "duration": 3,
    "start_time": "2022-10-15T13:36:14.261Z"
   },
   {
    "duration": 7,
    "start_time": "2022-10-15T13:36:14.266Z"
   },
   {
    "duration": 5,
    "start_time": "2022-10-15T13:36:14.275Z"
   },
   {
    "duration": 33,
    "start_time": "2022-10-15T13:36:14.282Z"
   },
   {
    "duration": 53,
    "start_time": "2022-10-15T13:36:14.318Z"
   },
   {
    "duration": 8,
    "start_time": "2022-10-15T13:36:14.374Z"
   },
   {
    "duration": 18,
    "start_time": "2022-10-15T13:36:14.384Z"
   },
   {
    "duration": 61,
    "start_time": "2022-10-15T13:36:14.404Z"
   },
   {
    "duration": 87,
    "start_time": "2022-10-15T13:36:14.467Z"
   },
   {
    "duration": 115,
    "start_time": "2022-10-15T13:36:14.556Z"
   },
   {
    "duration": 81,
    "start_time": "2022-10-15T13:36:14.674Z"
   },
   {
    "duration": 105,
    "start_time": "2022-10-15T13:36:14.758Z"
   },
   {
    "duration": 15,
    "start_time": "2022-10-15T13:36:14.864Z"
   },
   {
    "duration": 184,
    "start_time": "2022-10-15T13:36:14.881Z"
   },
   {
    "duration": 47,
    "start_time": "2022-10-15T13:36:15.067Z"
   },
   {
    "duration": 66,
    "start_time": "2022-10-15T13:36:15.116Z"
   },
   {
    "duration": 431,
    "start_time": "2022-10-15T13:36:15.185Z"
   },
   {
    "duration": 1226,
    "start_time": "2022-10-15T13:36:15.618Z"
   },
   {
    "duration": 1153,
    "start_time": "2022-10-15T13:36:16.846Z"
   },
   {
    "duration": 79,
    "start_time": "2022-10-15T13:36:18.002Z"
   },
   {
    "duration": 74,
    "start_time": "2022-10-15T13:36:18.083Z"
   },
   {
    "duration": 196,
    "start_time": "2022-10-15T13:36:18.159Z"
   },
   {
    "duration": 148,
    "start_time": "2022-10-15T13:36:18.357Z"
   },
   {
    "duration": 691,
    "start_time": "2022-10-15T13:36:59.867Z"
   },
   {
    "duration": 4,
    "start_time": "2022-10-15T13:37:12.072Z"
   },
   {
    "duration": 67,
    "start_time": "2022-10-15T13:37:12.078Z"
   },
   {
    "duration": 3,
    "start_time": "2022-10-15T13:37:12.147Z"
   },
   {
    "duration": 8,
    "start_time": "2022-10-15T13:37:12.151Z"
   },
   {
    "duration": 5,
    "start_time": "2022-10-15T13:37:12.162Z"
   },
   {
    "duration": 19,
    "start_time": "2022-10-15T13:37:12.168Z"
   },
   {
    "duration": 16,
    "start_time": "2022-10-15T13:37:12.189Z"
   },
   {
    "duration": 188,
    "start_time": "2022-10-15T13:37:12.207Z"
   },
   {
    "duration": 15,
    "start_time": "2022-10-15T13:37:12.397Z"
   },
   {
    "duration": 52,
    "start_time": "2022-10-15T13:37:12.414Z"
   },
   {
    "duration": 21,
    "start_time": "2022-10-15T13:37:12.467Z"
   },
   {
    "duration": 843,
    "start_time": "2022-10-15T13:37:12.489Z"
   },
   {
    "duration": 29,
    "start_time": "2022-10-15T13:37:13.334Z"
   },
   {
    "duration": 94,
    "start_time": "2022-10-15T13:37:13.367Z"
   },
   {
    "duration": 129,
    "start_time": "2022-10-15T13:37:13.463Z"
   },
   {
    "duration": 18,
    "start_time": "2022-10-15T13:37:13.594Z"
   },
   {
    "duration": 162,
    "start_time": "2022-10-15T13:37:13.613Z"
   },
   {
    "duration": 39,
    "start_time": "2022-10-15T13:37:13.777Z"
   },
   {
    "duration": 55,
    "start_time": "2022-10-15T13:37:13.818Z"
   },
   {
    "duration": 392,
    "start_time": "2022-10-15T13:37:13.875Z"
   },
   {
    "duration": 1133,
    "start_time": "2022-10-15T13:37:14.269Z"
   },
   {
    "duration": 969,
    "start_time": "2022-10-15T13:37:15.404Z"
   },
   {
    "duration": 58,
    "start_time": "2022-10-15T13:37:16.375Z"
   },
   {
    "duration": 70,
    "start_time": "2022-10-15T13:37:16.435Z"
   },
   {
    "duration": 183,
    "start_time": "2022-10-15T13:37:16.507Z"
   },
   {
    "duration": 130,
    "start_time": "2022-10-15T13:37:16.691Z"
   },
   {
    "duration": 44,
    "start_time": "2022-10-15T13:37:53.912Z"
   },
   {
    "duration": 678,
    "start_time": "2022-10-15T13:57:03.009Z"
   },
   {
    "duration": 45,
    "start_time": "2022-10-15T13:57:16.325Z"
   },
   {
    "duration": 5,
    "start_time": "2022-10-15T13:59:18.276Z"
   },
   {
    "duration": 535,
    "start_time": "2022-10-15T13:59:36.524Z"
   },
   {
    "duration": 566,
    "start_time": "2022-10-15T14:00:43.982Z"
   },
   {
    "duration": 4,
    "start_time": "2022-10-15T14:01:14.587Z"
   },
   {
    "duration": 51,
    "start_time": "2022-10-15T14:01:14.593Z"
   },
   {
    "duration": 4,
    "start_time": "2022-10-15T14:01:14.645Z"
   },
   {
    "duration": 11,
    "start_time": "2022-10-15T14:01:14.651Z"
   },
   {
    "duration": 28,
    "start_time": "2022-10-15T14:01:14.665Z"
   },
   {
    "duration": 22,
    "start_time": "2022-10-15T14:01:14.696Z"
   },
   {
    "duration": 17,
    "start_time": "2022-10-15T14:01:14.719Z"
   },
   {
    "duration": 8,
    "start_time": "2022-10-15T14:01:14.737Z"
   },
   {
    "duration": 18,
    "start_time": "2022-10-15T14:01:14.747Z"
   },
   {
    "duration": 40,
    "start_time": "2022-10-15T14:01:14.768Z"
   },
   {
    "duration": 47,
    "start_time": "2022-10-15T14:01:14.810Z"
   },
   {
    "duration": 801,
    "start_time": "2022-10-15T14:01:14.858Z"
   },
   {
    "duration": 25,
    "start_time": "2022-10-15T14:01:15.661Z"
   },
   {
    "duration": 97,
    "start_time": "2022-10-15T14:01:15.758Z"
   },
   {
    "duration": 19,
    "start_time": "2022-10-15T14:01:15.857Z"
   },
   {
    "duration": 14,
    "start_time": "2022-10-15T14:01:15.878Z"
   },
   {
    "duration": 169,
    "start_time": "2022-10-15T14:01:15.894Z"
   },
   {
    "duration": 43,
    "start_time": "2022-10-15T14:01:16.065Z"
   },
   {
    "duration": 68,
    "start_time": "2022-10-15T14:01:16.111Z"
   },
   {
    "duration": 378,
    "start_time": "2022-10-15T14:01:16.182Z"
   },
   {
    "duration": 970,
    "start_time": "2022-10-15T14:01:16.562Z"
   },
   {
    "duration": 576,
    "start_time": "2022-10-15T14:01:17.534Z"
   },
   {
    "duration": 0,
    "start_time": "2022-10-15T14:01:18.111Z"
   },
   {
    "duration": 0,
    "start_time": "2022-10-15T14:01:18.113Z"
   },
   {
    "duration": 0,
    "start_time": "2022-10-15T14:01:18.114Z"
   },
   {
    "duration": 0,
    "start_time": "2022-10-15T14:01:18.115Z"
   },
   {
    "duration": 11733,
    "start_time": "2022-10-15T14:01:50.005Z"
   },
   {
    "duration": 5031,
    "start_time": "2022-10-15T14:02:39.202Z"
   },
   {
    "duration": 907,
    "start_time": "2022-10-15T14:04:45.831Z"
   },
   {
    "duration": 746,
    "start_time": "2022-10-15T14:05:18.652Z"
   },
   {
    "duration": 44,
    "start_time": "2022-10-15T14:05:32.264Z"
   },
   {
    "duration": 171,
    "start_time": "2022-10-15T14:05:35.219Z"
   },
   {
    "duration": 123,
    "start_time": "2022-10-15T14:05:37.927Z"
   },
   {
    "duration": 1442,
    "start_time": "2022-10-15T14:37:19.429Z"
   },
   {
    "duration": 55,
    "start_time": "2022-10-15T14:37:20.873Z"
   },
   {
    "duration": 3,
    "start_time": "2022-10-15T14:37:20.930Z"
   },
   {
    "duration": 14,
    "start_time": "2022-10-15T14:37:20.935Z"
   },
   {
    "duration": 17,
    "start_time": "2022-10-15T14:37:20.951Z"
   },
   {
    "duration": 24,
    "start_time": "2022-10-15T14:37:20.970Z"
   },
   {
    "duration": 18,
    "start_time": "2022-10-15T14:37:20.996Z"
   },
   {
    "duration": 10,
    "start_time": "2022-10-15T14:37:21.015Z"
   },
   {
    "duration": 28,
    "start_time": "2022-10-15T14:37:21.026Z"
   },
   {
    "duration": 37,
    "start_time": "2022-10-15T14:37:21.058Z"
   },
   {
    "duration": 158,
    "start_time": "2022-10-15T14:37:21.096Z"
   },
   {
    "duration": 880,
    "start_time": "2022-10-15T14:37:21.256Z"
   },
   {
    "duration": 0,
    "start_time": "2022-10-15T14:37:22.137Z"
   },
   {
    "duration": 0,
    "start_time": "2022-10-15T14:37:22.138Z"
   },
   {
    "duration": 1,
    "start_time": "2022-10-15T14:37:22.139Z"
   },
   {
    "duration": 0,
    "start_time": "2022-10-15T14:37:22.141Z"
   },
   {
    "duration": 0,
    "start_time": "2022-10-15T14:37:22.142Z"
   },
   {
    "duration": 0,
    "start_time": "2022-10-15T14:37:22.154Z"
   },
   {
    "duration": 0,
    "start_time": "2022-10-15T14:37:22.155Z"
   },
   {
    "duration": 0,
    "start_time": "2022-10-15T14:37:22.156Z"
   },
   {
    "duration": 0,
    "start_time": "2022-10-15T14:37:22.157Z"
   },
   {
    "duration": 0,
    "start_time": "2022-10-15T14:37:22.158Z"
   },
   {
    "duration": 0,
    "start_time": "2022-10-15T14:37:22.159Z"
   },
   {
    "duration": 0,
    "start_time": "2022-10-15T14:37:22.160Z"
   },
   {
    "duration": 0,
    "start_time": "2022-10-15T14:37:22.161Z"
   },
   {
    "duration": 0,
    "start_time": "2022-10-15T14:37:22.162Z"
   },
   {
    "duration": 0,
    "start_time": "2022-10-15T14:37:22.163Z"
   },
   {
    "duration": 1413,
    "start_time": "2022-10-15T14:37:44.656Z"
   },
   {
    "duration": 57,
    "start_time": "2022-10-15T14:37:46.071Z"
   },
   {
    "duration": 3,
    "start_time": "2022-10-15T14:37:46.130Z"
   },
   {
    "duration": 19,
    "start_time": "2022-10-15T14:37:46.135Z"
   },
   {
    "duration": 31,
    "start_time": "2022-10-15T14:37:46.156Z"
   },
   {
    "duration": 40,
    "start_time": "2022-10-15T14:37:46.190Z"
   },
   {
    "duration": 17,
    "start_time": "2022-10-15T14:37:46.232Z"
   },
   {
    "duration": 12,
    "start_time": "2022-10-15T14:37:46.251Z"
   },
   {
    "duration": 32,
    "start_time": "2022-10-15T14:37:46.264Z"
   },
   {
    "duration": 39,
    "start_time": "2022-10-15T14:37:46.298Z"
   },
   {
    "duration": 35,
    "start_time": "2022-10-15T14:37:46.339Z"
   },
   {
    "duration": 895,
    "start_time": "2022-10-15T14:37:46.375Z"
   },
   {
    "duration": 82,
    "start_time": "2022-10-15T14:37:47.272Z"
   },
   {
    "duration": 9,
    "start_time": "2022-10-15T14:37:47.358Z"
   },
   {
    "duration": 122,
    "start_time": "2022-10-15T14:37:47.369Z"
   },
   {
    "duration": 36,
    "start_time": "2022-10-15T14:37:47.493Z"
   },
   {
    "duration": 127,
    "start_time": "2022-10-15T14:37:47.555Z"
   },
   {
    "duration": 94,
    "start_time": "2022-10-15T14:37:47.685Z"
   },
   {
    "duration": 41,
    "start_time": "2022-10-15T14:37:47.780Z"
   },
   {
    "duration": 400,
    "start_time": "2022-10-15T14:37:47.823Z"
   },
   {
    "duration": 1003,
    "start_time": "2022-10-15T14:37:48.225Z"
   },
   {
    "duration": 11679,
    "start_time": "2022-10-15T14:37:49.230Z"
   },
   {
    "duration": 4916,
    "start_time": "2022-10-15T14:38:00.911Z"
   },
   {
    "duration": 753,
    "start_time": "2022-10-15T14:38:05.829Z"
   },
   {
    "duration": 135,
    "start_time": "2022-10-15T14:38:06.584Z"
   },
   {
    "duration": 0,
    "start_time": "2022-10-15T14:38:06.721Z"
   },
   {
    "duration": 0,
    "start_time": "2022-10-15T14:38:06.723Z"
   },
   {
    "duration": 55,
    "start_time": "2022-10-15T14:38:15.748Z"
   },
   {
    "duration": 1323,
    "start_time": "2022-10-15T14:38:25.305Z"
   },
   {
    "duration": 87,
    "start_time": "2022-10-15T14:38:26.630Z"
   },
   {
    "duration": 3,
    "start_time": "2022-10-15T14:38:26.718Z"
   },
   {
    "duration": 14,
    "start_time": "2022-10-15T14:38:26.723Z"
   },
   {
    "duration": 5,
    "start_time": "2022-10-15T14:38:26.740Z"
   },
   {
    "duration": 23,
    "start_time": "2022-10-15T14:38:26.747Z"
   },
   {
    "duration": 16,
    "start_time": "2022-10-15T14:38:26.772Z"
   },
   {
    "duration": 9,
    "start_time": "2022-10-15T14:38:26.790Z"
   },
   {
    "duration": 17,
    "start_time": "2022-10-15T14:38:26.800Z"
   },
   {
    "duration": 51,
    "start_time": "2022-10-15T14:38:26.819Z"
   },
   {
    "duration": 83,
    "start_time": "2022-10-15T14:38:26.872Z"
   },
   {
    "duration": 791,
    "start_time": "2022-10-15T14:38:26.956Z"
   },
   {
    "duration": 105,
    "start_time": "2022-10-15T14:38:27.749Z"
   },
   {
    "duration": 98,
    "start_time": "2022-10-15T14:38:27.860Z"
   },
   {
    "duration": 28,
    "start_time": "2022-10-15T14:38:27.960Z"
   },
   {
    "duration": 70,
    "start_time": "2022-10-15T14:38:27.989Z"
   },
   {
    "duration": 121,
    "start_time": "2022-10-15T14:38:28.061Z"
   },
   {
    "duration": 76,
    "start_time": "2022-10-15T14:38:28.184Z"
   },
   {
    "duration": 38,
    "start_time": "2022-10-15T14:38:28.263Z"
   },
   {
    "duration": 381,
    "start_time": "2022-10-15T14:38:28.303Z"
   },
   {
    "duration": 960,
    "start_time": "2022-10-15T14:38:28.686Z"
   },
   {
    "duration": 12113,
    "start_time": "2022-10-15T14:38:29.654Z"
   },
   {
    "duration": 4933,
    "start_time": "2022-10-15T14:38:41.769Z"
   },
   {
    "duration": 790,
    "start_time": "2022-10-15T14:38:46.704Z"
   },
   {
    "duration": 57,
    "start_time": "2022-10-15T14:38:47.497Z"
   },
   {
    "duration": 224,
    "start_time": "2022-10-15T14:38:47.556Z"
   },
   {
    "duration": 136,
    "start_time": "2022-10-15T14:38:47.782Z"
   },
   {
    "duration": 12161,
    "start_time": "2022-10-15T14:40:35.923Z"
   },
   {
    "duration": 5169,
    "start_time": "2022-10-15T14:40:50.656Z"
   },
   {
    "duration": 115,
    "start_time": "2022-10-15T14:41:11.538Z"
   },
   {
    "duration": 5,
    "start_time": "2022-10-15T14:41:24.426Z"
   },
   {
    "duration": 88,
    "start_time": "2022-10-15T14:41:24.433Z"
   },
   {
    "duration": 3,
    "start_time": "2022-10-15T14:41:24.523Z"
   },
   {
    "duration": 22,
    "start_time": "2022-10-15T14:41:24.528Z"
   },
   {
    "duration": 7,
    "start_time": "2022-10-15T14:41:24.552Z"
   },
   {
    "duration": 21,
    "start_time": "2022-10-15T14:41:24.560Z"
   },
   {
    "duration": 18,
    "start_time": "2022-10-15T14:41:24.582Z"
   },
   {
    "duration": 6,
    "start_time": "2022-10-15T14:41:24.602Z"
   },
   {
    "duration": 12,
    "start_time": "2022-10-15T14:41:24.610Z"
   },
   {
    "duration": 40,
    "start_time": "2022-10-15T14:41:24.653Z"
   },
   {
    "duration": 61,
    "start_time": "2022-10-15T14:41:24.695Z"
   },
   {
    "duration": 806,
    "start_time": "2022-10-15T14:41:24.758Z"
   },
   {
    "duration": 23,
    "start_time": "2022-10-15T14:41:25.566Z"
   },
   {
    "duration": 67,
    "start_time": "2022-10-15T14:41:25.592Z"
   },
   {
    "duration": 104,
    "start_time": "2022-10-15T14:41:25.661Z"
   },
   {
    "duration": 92,
    "start_time": "2022-10-15T14:41:25.767Z"
   },
   {
    "duration": 194,
    "start_time": "2022-10-15T14:41:25.861Z"
   },
   {
    "duration": 44,
    "start_time": "2022-10-15T14:41:26.057Z"
   },
   {
    "duration": 52,
    "start_time": "2022-10-15T14:41:26.103Z"
   },
   {
    "duration": 386,
    "start_time": "2022-10-15T14:41:26.157Z"
   },
   {
    "duration": 1022,
    "start_time": "2022-10-15T14:41:26.544Z"
   },
   {
    "duration": 5117,
    "start_time": "2022-10-15T14:41:27.568Z"
   },
   {
    "duration": 0,
    "start_time": "2022-10-15T14:41:32.687Z"
   },
   {
    "duration": 0,
    "start_time": "2022-10-15T14:41:32.688Z"
   },
   {
    "duration": 0,
    "start_time": "2022-10-15T14:41:32.689Z"
   },
   {
    "duration": 0,
    "start_time": "2022-10-15T14:41:32.690Z"
   },
   {
    "duration": 1444,
    "start_time": "2022-10-15T14:41:39.637Z"
   },
   {
    "duration": 57,
    "start_time": "2022-10-15T14:41:41.084Z"
   },
   {
    "duration": 3,
    "start_time": "2022-10-15T14:41:41.143Z"
   },
   {
    "duration": 6,
    "start_time": "2022-10-15T14:41:41.154Z"
   },
   {
    "duration": 12,
    "start_time": "2022-10-15T14:41:41.163Z"
   },
   {
    "duration": 28,
    "start_time": "2022-10-15T14:41:41.176Z"
   },
   {
    "duration": 18,
    "start_time": "2022-10-15T14:41:41.206Z"
   },
   {
    "duration": 6,
    "start_time": "2022-10-15T14:41:41.226Z"
   },
   {
    "duration": 13,
    "start_time": "2022-10-15T14:41:41.255Z"
   },
   {
    "duration": 37,
    "start_time": "2022-10-15T14:41:41.269Z"
   },
   {
    "duration": 49,
    "start_time": "2022-10-15T14:41:41.308Z"
   },
   {
    "duration": 921,
    "start_time": "2022-10-15T14:41:41.359Z"
   },
   {
    "duration": 22,
    "start_time": "2022-10-15T14:41:42.282Z"
   },
   {
    "duration": 98,
    "start_time": "2022-10-15T14:41:42.356Z"
   },
   {
    "duration": 18,
    "start_time": "2022-10-15T14:41:42.456Z"
   },
   {
    "duration": 79,
    "start_time": "2022-10-15T14:41:42.476Z"
   },
   {
    "duration": 107,
    "start_time": "2022-10-15T14:41:42.557Z"
   },
   {
    "duration": 56,
    "start_time": "2022-10-15T14:41:42.666Z"
   },
   {
    "duration": 72,
    "start_time": "2022-10-15T14:41:42.724Z"
   },
   {
    "duration": 382,
    "start_time": "2022-10-15T14:41:42.798Z"
   },
   {
    "duration": 950,
    "start_time": "2022-10-15T14:41:43.183Z"
   },
   {
    "duration": 11552,
    "start_time": "2022-10-15T14:41:44.134Z"
   },
   {
    "duration": 4794,
    "start_time": "2022-10-15T14:41:55.688Z"
   },
   {
    "duration": 830,
    "start_time": "2022-10-15T14:42:00.484Z"
   },
   {
    "duration": 209,
    "start_time": "2022-10-15T14:42:01.315Z"
   },
   {
    "duration": 170,
    "start_time": "2022-10-15T14:42:01.526Z"
   },
   {
    "duration": 4650,
    "start_time": "2022-10-15T17:31:48.292Z"
   },
   {
    "duration": 89,
    "start_time": "2022-10-15T17:31:52.945Z"
   },
   {
    "duration": 3,
    "start_time": "2022-10-15T17:31:53.036Z"
   },
   {
    "duration": 7,
    "start_time": "2022-10-15T17:31:53.041Z"
   },
   {
    "duration": 6,
    "start_time": "2022-10-15T17:31:53.050Z"
   },
   {
    "duration": 20,
    "start_time": "2022-10-15T17:31:53.057Z"
   },
   {
    "duration": 13,
    "start_time": "2022-10-15T17:31:53.078Z"
   },
   {
    "duration": 18,
    "start_time": "2022-10-15T17:31:53.093Z"
   },
   {
    "duration": 9,
    "start_time": "2022-10-15T17:31:53.113Z"
   },
   {
    "duration": 43,
    "start_time": "2022-10-15T17:31:53.124Z"
   },
   {
    "duration": 63,
    "start_time": "2022-10-15T17:31:53.168Z"
   },
   {
    "duration": 779,
    "start_time": "2022-10-15T17:31:53.313Z"
   },
   {
    "duration": 24,
    "start_time": "2022-10-15T17:31:54.093Z"
   },
   {
    "duration": 89,
    "start_time": "2022-10-15T17:31:54.120Z"
   },
   {
    "duration": 109,
    "start_time": "2022-10-15T17:31:54.211Z"
   },
   {
    "duration": 89,
    "start_time": "2022-10-15T17:31:54.322Z"
   },
   {
    "duration": 116,
    "start_time": "2022-10-15T17:31:54.413Z"
   },
   {
    "duration": 51,
    "start_time": "2022-10-15T17:31:54.531Z"
   },
   {
    "duration": 65,
    "start_time": "2022-10-15T17:31:54.584Z"
   },
   {
    "duration": 362,
    "start_time": "2022-10-15T17:31:54.650Z"
   },
   {
    "duration": 963,
    "start_time": "2022-10-15T17:31:55.013Z"
   },
   {
    "duration": 11693,
    "start_time": "2022-10-15T17:31:55.978Z"
   },
   {
    "duration": 4623,
    "start_time": "2022-10-15T17:32:07.673Z"
   },
   {
    "duration": 812,
    "start_time": "2022-10-15T17:32:12.297Z"
   },
   {
    "duration": 151,
    "start_time": "2022-10-15T17:32:13.110Z"
   },
   {
    "duration": 108,
    "start_time": "2022-10-15T17:32:13.263Z"
   },
   {
    "duration": 4,
    "start_time": "2022-10-15T17:37:55.848Z"
   },
   {
    "duration": 48,
    "start_time": "2022-10-15T17:37:55.853Z"
   },
   {
    "duration": 2,
    "start_time": "2022-10-15T17:37:55.903Z"
   },
   {
    "duration": 6,
    "start_time": "2022-10-15T17:37:55.907Z"
   },
   {
    "duration": 5,
    "start_time": "2022-10-15T17:37:55.914Z"
   },
   {
    "duration": 17,
    "start_time": "2022-10-15T17:37:55.920Z"
   },
   {
    "duration": 14,
    "start_time": "2022-10-15T17:37:55.938Z"
   },
   {
    "duration": 4,
    "start_time": "2022-10-15T17:37:55.954Z"
   },
   {
    "duration": 9,
    "start_time": "2022-10-15T17:37:55.961Z"
   },
   {
    "duration": 62,
    "start_time": "2022-10-15T17:37:55.972Z"
   },
   {
    "duration": 20,
    "start_time": "2022-10-15T17:37:56.036Z"
   },
   {
    "duration": 872,
    "start_time": "2022-10-15T17:37:56.057Z"
   },
   {
    "duration": 19,
    "start_time": "2022-10-15T17:37:56.931Z"
   },
   {
    "duration": 61,
    "start_time": "2022-10-15T17:37:56.951Z"
   },
   {
    "duration": 113,
    "start_time": "2022-10-15T17:37:57.013Z"
   },
   {
    "duration": 17,
    "start_time": "2022-10-15T17:37:57.128Z"
   },
   {
    "duration": 165,
    "start_time": "2022-10-15T17:37:57.146Z"
   },
   {
    "duration": 43,
    "start_time": "2022-10-15T17:37:57.313Z"
   },
   {
    "duration": 59,
    "start_time": "2022-10-15T17:37:57.358Z"
   },
   {
    "duration": 361,
    "start_time": "2022-10-15T17:37:57.418Z"
   },
   {
    "duration": 988,
    "start_time": "2022-10-15T17:37:57.780Z"
   },
   {
    "duration": 11776,
    "start_time": "2022-10-15T17:37:58.769Z"
   },
   {
    "duration": 4789,
    "start_time": "2022-10-15T17:38:10.546Z"
   },
   {
    "duration": 828,
    "start_time": "2022-10-15T17:38:15.337Z"
   },
   {
    "duration": 153,
    "start_time": "2022-10-15T17:38:16.166Z"
   },
   {
    "duration": 110,
    "start_time": "2022-10-15T17:38:16.321Z"
   },
   {
    "duration": 51,
    "start_time": "2022-10-16T05:42:04.470Z"
   },
   {
    "duration": 1546,
    "start_time": "2022-10-16T05:42:08.050Z"
   },
   {
    "duration": 78,
    "start_time": "2022-10-16T05:42:09.599Z"
   },
   {
    "duration": 3,
    "start_time": "2022-10-16T05:42:09.679Z"
   },
   {
    "duration": 11,
    "start_time": "2022-10-16T05:42:09.683Z"
   },
   {
    "duration": 10,
    "start_time": "2022-10-16T05:42:09.696Z"
   },
   {
    "duration": 20,
    "start_time": "2022-10-16T05:42:09.708Z"
   },
   {
    "duration": 28,
    "start_time": "2022-10-16T05:42:09.730Z"
   },
   {
    "duration": 6,
    "start_time": "2022-10-16T05:42:09.760Z"
   },
   {
    "duration": 16,
    "start_time": "2022-10-16T05:42:09.768Z"
   },
   {
    "duration": 35,
    "start_time": "2022-10-16T05:42:09.785Z"
   },
   {
    "duration": 55,
    "start_time": "2022-10-16T05:42:09.821Z"
   },
   {
    "duration": 878,
    "start_time": "2022-10-16T05:42:09.878Z"
   },
   {
    "duration": 24,
    "start_time": "2022-10-16T05:42:10.757Z"
   },
   {
    "duration": 74,
    "start_time": "2022-10-16T05:42:10.785Z"
   },
   {
    "duration": 114,
    "start_time": "2022-10-16T05:42:10.860Z"
   },
   {
    "duration": 20,
    "start_time": "2022-10-16T05:42:10.975Z"
   },
   {
    "duration": 105,
    "start_time": "2022-10-16T05:42:11.055Z"
   },
   {
    "duration": 40,
    "start_time": "2022-10-16T05:42:11.162Z"
   },
   {
    "duration": 58,
    "start_time": "2022-10-16T05:42:11.204Z"
   },
   {
    "duration": 442,
    "start_time": "2022-10-16T05:42:11.264Z"
   },
   {
    "duration": 980,
    "start_time": "2022-10-16T05:42:11.709Z"
   },
   {
    "duration": 11702,
    "start_time": "2022-10-16T05:42:12.691Z"
   },
   {
    "duration": 4877,
    "start_time": "2022-10-16T05:42:24.395Z"
   },
   {
    "duration": 791,
    "start_time": "2022-10-16T05:42:29.275Z"
   },
   {
    "duration": 179,
    "start_time": "2022-10-16T05:42:30.068Z"
   },
   {
    "duration": 127,
    "start_time": "2022-10-16T05:42:30.249Z"
   },
   {
    "duration": 13,
    "start_time": "2022-10-16T05:42:30.379Z"
   },
   {
    "duration": 5,
    "start_time": "2022-10-16T05:42:35.674Z"
   },
   {
    "duration": 5,
    "start_time": "2022-10-16T05:43:09.128Z"
   },
   {
    "duration": 53,
    "start_time": "2022-10-16T05:43:09.136Z"
   },
   {
    "duration": 4,
    "start_time": "2022-10-16T05:43:09.191Z"
   },
   {
    "duration": 14,
    "start_time": "2022-10-16T05:43:09.196Z"
   },
   {
    "duration": 6,
    "start_time": "2022-10-16T05:43:27.187Z"
   },
   {
    "duration": 84,
    "start_time": "2022-10-16T05:45:28.659Z"
   },
   {
    "duration": 5,
    "start_time": "2022-10-16T05:45:33.315Z"
   },
   {
    "duration": 776,
    "start_time": "2022-10-16T05:45:37.057Z"
   },
   {
    "duration": 11,
    "start_time": "2022-10-16T05:45:46.151Z"
   },
   {
    "duration": 4,
    "start_time": "2022-10-16T06:06:05.799Z"
   },
   {
    "duration": 51,
    "start_time": "2022-10-16T06:06:05.805Z"
   },
   {
    "duration": 3,
    "start_time": "2022-10-16T06:06:05.858Z"
   },
   {
    "duration": 13,
    "start_time": "2022-10-16T06:06:05.863Z"
   },
   {
    "duration": 13,
    "start_time": "2022-10-16T06:06:08.854Z"
   },
   {
    "duration": 51,
    "start_time": "2022-10-16T06:06:25.092Z"
   },
   {
    "duration": 10,
    "start_time": "2022-10-16T06:06:43.369Z"
   },
   {
    "duration": 9,
    "start_time": "2022-10-16T06:06:58.401Z"
   },
   {
    "duration": 4,
    "start_time": "2022-10-16T06:07:04.324Z"
   },
   {
    "duration": 58,
    "start_time": "2022-10-16T06:07:04.329Z"
   },
   {
    "duration": 3,
    "start_time": "2022-10-16T06:07:04.389Z"
   },
   {
    "duration": 12,
    "start_time": "2022-10-16T06:07:04.394Z"
   },
   {
    "duration": 10,
    "start_time": "2022-10-16T06:07:06.027Z"
   },
   {
    "duration": 10,
    "start_time": "2022-10-16T06:48:21.304Z"
   },
   {
    "duration": 6,
    "start_time": "2022-10-16T06:48:48.080Z"
   },
   {
    "duration": 62,
    "start_time": "2022-10-16T06:48:48.088Z"
   },
   {
    "duration": 3,
    "start_time": "2022-10-16T06:48:48.152Z"
   },
   {
    "duration": 11,
    "start_time": "2022-10-16T06:48:48.157Z"
   },
   {
    "duration": 949,
    "start_time": "2022-10-16T06:48:49.700Z"
   },
   {
    "duration": 11,
    "start_time": "2022-10-16T06:49:48.963Z"
   },
   {
    "duration": 882,
    "start_time": "2022-10-16T06:50:27.464Z"
   },
   {
    "duration": 32,
    "start_time": "2022-10-16T06:50:59.106Z"
   },
   {
    "duration": 884,
    "start_time": "2022-10-16T06:51:24.576Z"
   },
   {
    "duration": 13,
    "start_time": "2022-10-16T06:51:59.553Z"
   },
   {
    "duration": 26,
    "start_time": "2022-10-16T06:52:09.697Z"
   },
   {
    "duration": 25,
    "start_time": "2022-10-16T06:52:34.807Z"
   },
   {
    "duration": 19,
    "start_time": "2022-10-16T06:52:43.581Z"
   },
   {
    "duration": 996,
    "start_time": "2022-10-16T06:53:17.470Z"
   },
   {
    "duration": 43,
    "start_time": "2022-10-16T06:54:22.695Z"
   },
   {
    "duration": 13,
    "start_time": "2022-10-16T06:54:36.406Z"
   },
   {
    "duration": 16,
    "start_time": "2022-10-16T06:54:47.820Z"
   },
   {
    "duration": 20,
    "start_time": "2022-10-16T06:54:56.283Z"
   },
   {
    "duration": 13,
    "start_time": "2022-10-16T06:55:58.389Z"
   },
   {
    "duration": 12,
    "start_time": "2022-10-16T06:56:54.009Z"
   },
   {
    "duration": 1076,
    "start_time": "2022-10-16T06:58:11.496Z"
   },
   {
    "duration": 1561,
    "start_time": "2022-10-16T06:58:22.393Z"
   },
   {
    "duration": 4,
    "start_time": "2022-10-16T06:58:40.041Z"
   },
   {
    "duration": 1432,
    "start_time": "2022-10-16T06:58:44.865Z"
   },
   {
    "duration": 1184,
    "start_time": "2022-10-16T06:59:08.424Z"
   },
   {
    "duration": 1149,
    "start_time": "2022-10-16T07:00:18.158Z"
   },
   {
    "duration": 4,
    "start_time": "2022-10-16T07:00:22.202Z"
   },
   {
    "duration": 74,
    "start_time": "2022-10-16T07:00:22.210Z"
   },
   {
    "duration": 3,
    "start_time": "2022-10-16T07:00:22.286Z"
   },
   {
    "duration": 20,
    "start_time": "2022-10-16T07:00:22.291Z"
   },
   {
    "duration": 1657,
    "start_time": "2022-10-16T07:00:25.363Z"
   },
   {
    "duration": 1105,
    "start_time": "2022-10-16T07:01:13.820Z"
   },
   {
    "duration": 4,
    "start_time": "2022-10-16T07:01:23.195Z"
   },
   {
    "duration": 68,
    "start_time": "2022-10-16T07:01:23.201Z"
   },
   {
    "duration": 3,
    "start_time": "2022-10-16T07:01:23.271Z"
   },
   {
    "duration": 17,
    "start_time": "2022-10-16T07:01:23.276Z"
   },
   {
    "duration": 1455,
    "start_time": "2022-10-16T07:01:25.225Z"
   },
   {
    "duration": 48,
    "start_time": "2022-10-16T07:03:49.167Z"
   },
   {
    "duration": 29,
    "start_time": "2022-10-16T07:03:59.336Z"
   },
   {
    "duration": 29,
    "start_time": "2022-10-16T07:05:25.490Z"
   },
   {
    "duration": 29,
    "start_time": "2022-10-16T07:05:41.855Z"
   },
   {
    "duration": 23,
    "start_time": "2022-10-16T07:05:52.101Z"
   },
   {
    "duration": 26,
    "start_time": "2022-10-16T07:06:15.855Z"
   },
   {
    "duration": 24,
    "start_time": "2022-10-16T07:06:25.927Z"
   },
   {
    "duration": 16,
    "start_time": "2022-10-16T07:06:42.864Z"
   },
   {
    "duration": 18,
    "start_time": "2022-10-16T07:06:47.147Z"
   },
   {
    "duration": 17,
    "start_time": "2022-10-16T07:06:53.984Z"
   },
   {
    "duration": 21,
    "start_time": "2022-10-16T07:06:57.141Z"
   },
   {
    "duration": 22,
    "start_time": "2022-10-16T07:07:04.441Z"
   },
   {
    "duration": 17,
    "start_time": "2022-10-16T07:07:15.740Z"
   },
   {
    "duration": 13,
    "start_time": "2022-10-16T07:07:17.804Z"
   },
   {
    "duration": 13,
    "start_time": "2022-10-16T07:07:43.372Z"
   },
   {
    "duration": 25,
    "start_time": "2022-10-16T07:07:56.961Z"
   },
   {
    "duration": 1467,
    "start_time": "2022-10-16T07:08:04.803Z"
   },
   {
    "duration": 54,
    "start_time": "2022-10-16T07:08:06.272Z"
   },
   {
    "duration": 3,
    "start_time": "2022-10-16T07:08:06.328Z"
   },
   {
    "duration": 28,
    "start_time": "2022-10-16T07:08:06.333Z"
   },
   {
    "duration": 1782,
    "start_time": "2022-10-16T07:08:06.363Z"
   },
   {
    "duration": 143,
    "start_time": "2022-10-16T07:08:08.147Z"
   },
   {
    "duration": 0,
    "start_time": "2022-10-16T07:08:08.292Z"
   },
   {
    "duration": 0,
    "start_time": "2022-10-16T07:08:08.293Z"
   },
   {
    "duration": 0,
    "start_time": "2022-10-16T07:08:08.296Z"
   },
   {
    "duration": 0,
    "start_time": "2022-10-16T07:08:08.297Z"
   },
   {
    "duration": 0,
    "start_time": "2022-10-16T07:08:08.299Z"
   },
   {
    "duration": 0,
    "start_time": "2022-10-16T07:08:08.300Z"
   },
   {
    "duration": 0,
    "start_time": "2022-10-16T07:08:08.301Z"
   },
   {
    "duration": 0,
    "start_time": "2022-10-16T07:08:08.303Z"
   },
   {
    "duration": 0,
    "start_time": "2022-10-16T07:08:08.305Z"
   },
   {
    "duration": 0,
    "start_time": "2022-10-16T07:08:08.306Z"
   },
   {
    "duration": 0,
    "start_time": "2022-10-16T07:08:08.307Z"
   },
   {
    "duration": 0,
    "start_time": "2022-10-16T07:08:08.309Z"
   },
   {
    "duration": 0,
    "start_time": "2022-10-16T07:08:08.310Z"
   },
   {
    "duration": 0,
    "start_time": "2022-10-16T07:08:08.311Z"
   },
   {
    "duration": 0,
    "start_time": "2022-10-16T07:08:08.313Z"
   },
   {
    "duration": 0,
    "start_time": "2022-10-16T07:08:08.314Z"
   },
   {
    "duration": 0,
    "start_time": "2022-10-16T07:08:08.316Z"
   },
   {
    "duration": 0,
    "start_time": "2022-10-16T07:08:08.356Z"
   },
   {
    "duration": 0,
    "start_time": "2022-10-16T07:08:08.357Z"
   },
   {
    "duration": 0,
    "start_time": "2022-10-16T07:08:08.359Z"
   },
   {
    "duration": 18,
    "start_time": "2022-10-16T07:08:25.361Z"
   },
   {
    "duration": 5,
    "start_time": "2022-10-16T07:08:28.797Z"
   },
   {
    "duration": 69,
    "start_time": "2022-10-16T07:08:28.804Z"
   },
   {
    "duration": 4,
    "start_time": "2022-10-16T07:08:28.875Z"
   },
   {
    "duration": 17,
    "start_time": "2022-10-16T07:08:28.881Z"
   },
   {
    "duration": 1714,
    "start_time": "2022-10-16T07:08:28.900Z"
   },
   {
    "duration": 14,
    "start_time": "2022-10-16T07:08:30.616Z"
   },
   {
    "duration": 53,
    "start_time": "2022-10-16T07:08:30.631Z"
   },
   {
    "duration": 54,
    "start_time": "2022-10-16T07:08:30.686Z"
   },
   {
    "duration": 28,
    "start_time": "2022-10-16T07:08:30.742Z"
   },
   {
    "duration": 43,
    "start_time": "2022-10-16T07:08:30.774Z"
   },
   {
    "duration": 0,
    "start_time": "2022-10-16T07:08:30.819Z"
   },
   {
    "duration": 0,
    "start_time": "2022-10-16T07:08:30.820Z"
   },
   {
    "duration": 0,
    "start_time": "2022-10-16T07:08:30.821Z"
   },
   {
    "duration": 0,
    "start_time": "2022-10-16T07:08:30.822Z"
   },
   {
    "duration": 0,
    "start_time": "2022-10-16T07:08:30.823Z"
   },
   {
    "duration": 0,
    "start_time": "2022-10-16T07:08:30.824Z"
   },
   {
    "duration": 0,
    "start_time": "2022-10-16T07:08:30.825Z"
   },
   {
    "duration": 0,
    "start_time": "2022-10-16T07:08:30.826Z"
   },
   {
    "duration": 0,
    "start_time": "2022-10-16T07:08:30.828Z"
   },
   {
    "duration": 0,
    "start_time": "2022-10-16T07:08:30.829Z"
   },
   {
    "duration": 0,
    "start_time": "2022-10-16T07:08:30.830Z"
   },
   {
    "duration": 0,
    "start_time": "2022-10-16T07:08:30.831Z"
   },
   {
    "duration": 0,
    "start_time": "2022-10-16T07:08:30.832Z"
   },
   {
    "duration": 0,
    "start_time": "2022-10-16T07:08:30.833Z"
   },
   {
    "duration": 0,
    "start_time": "2022-10-16T07:08:30.834Z"
   },
   {
    "duration": 0,
    "start_time": "2022-10-16T07:08:30.835Z"
   },
   {
    "duration": 16,
    "start_time": "2022-10-16T07:11:02.369Z"
   },
   {
    "duration": 32,
    "start_time": "2022-10-16T07:11:11.252Z"
   },
   {
    "duration": 5,
    "start_time": "2022-10-16T07:11:19.862Z"
   },
   {
    "duration": 62,
    "start_time": "2022-10-16T07:11:19.870Z"
   },
   {
    "duration": 3,
    "start_time": "2022-10-16T07:11:19.933Z"
   },
   {
    "duration": 10,
    "start_time": "2022-10-16T07:11:19.938Z"
   },
   {
    "duration": 1719,
    "start_time": "2022-10-16T07:11:19.949Z"
   },
   {
    "duration": 14,
    "start_time": "2022-10-16T07:11:21.674Z"
   },
   {
    "duration": 43,
    "start_time": "2022-10-16T07:11:21.690Z"
   },
   {
    "duration": 24,
    "start_time": "2022-10-16T07:11:21.736Z"
   },
   {
    "duration": 7,
    "start_time": "2022-10-16T07:11:21.766Z"
   },
   {
    "duration": 44,
    "start_time": "2022-10-16T07:11:21.776Z"
   },
   {
    "duration": 0,
    "start_time": "2022-10-16T07:11:21.821Z"
   },
   {
    "duration": 0,
    "start_time": "2022-10-16T07:11:21.824Z"
   },
   {
    "duration": 0,
    "start_time": "2022-10-16T07:11:21.825Z"
   },
   {
    "duration": 0,
    "start_time": "2022-10-16T07:11:21.827Z"
   },
   {
    "duration": 0,
    "start_time": "2022-10-16T07:11:21.829Z"
   },
   {
    "duration": 1,
    "start_time": "2022-10-16T07:11:21.829Z"
   },
   {
    "duration": 0,
    "start_time": "2022-10-16T07:11:21.831Z"
   },
   {
    "duration": 0,
    "start_time": "2022-10-16T07:11:21.833Z"
   },
   {
    "duration": 0,
    "start_time": "2022-10-16T07:11:21.834Z"
   },
   {
    "duration": 0,
    "start_time": "2022-10-16T07:11:21.860Z"
   },
   {
    "duration": 0,
    "start_time": "2022-10-16T07:11:21.861Z"
   },
   {
    "duration": 0,
    "start_time": "2022-10-16T07:11:21.861Z"
   },
   {
    "duration": 0,
    "start_time": "2022-10-16T07:11:21.862Z"
   },
   {
    "duration": 0,
    "start_time": "2022-10-16T07:11:21.867Z"
   },
   {
    "duration": 0,
    "start_time": "2022-10-16T07:11:21.871Z"
   },
   {
    "duration": 0,
    "start_time": "2022-10-16T07:11:21.872Z"
   },
   {
    "duration": 32,
    "start_time": "2022-10-16T07:59:43.844Z"
   },
   {
    "duration": 4,
    "start_time": "2022-10-16T08:00:15.337Z"
   },
   {
    "duration": 47,
    "start_time": "2022-10-16T08:00:15.386Z"
   },
   {
    "duration": 3,
    "start_time": "2022-10-16T08:00:15.435Z"
   },
   {
    "duration": 38,
    "start_time": "2022-10-16T08:00:15.440Z"
   },
   {
    "duration": 1662,
    "start_time": "2022-10-16T08:00:15.480Z"
   },
   {
    "duration": 19,
    "start_time": "2022-10-16T08:00:17.145Z"
   },
   {
    "duration": 15,
    "start_time": "2022-10-16T08:00:17.166Z"
   },
   {
    "duration": 26,
    "start_time": "2022-10-16T08:00:17.183Z"
   },
   {
    "duration": 18,
    "start_time": "2022-10-16T08:00:17.212Z"
   },
   {
    "duration": 28,
    "start_time": "2022-10-16T08:00:17.232Z"
   },
   {
    "duration": 27,
    "start_time": "2022-10-16T08:00:17.262Z"
   },
   {
    "duration": 0,
    "start_time": "2022-10-16T08:00:17.291Z"
   },
   {
    "duration": 0,
    "start_time": "2022-10-16T08:00:17.292Z"
   },
   {
    "duration": 0,
    "start_time": "2022-10-16T08:00:17.293Z"
   },
   {
    "duration": 0,
    "start_time": "2022-10-16T08:00:17.294Z"
   },
   {
    "duration": 0,
    "start_time": "2022-10-16T08:00:17.296Z"
   },
   {
    "duration": 0,
    "start_time": "2022-10-16T08:00:17.297Z"
   },
   {
    "duration": 0,
    "start_time": "2022-10-16T08:00:17.299Z"
   },
   {
    "duration": 0,
    "start_time": "2022-10-16T08:00:17.300Z"
   },
   {
    "duration": 0,
    "start_time": "2022-10-16T08:00:17.301Z"
   },
   {
    "duration": 0,
    "start_time": "2022-10-16T08:00:17.303Z"
   },
   {
    "duration": 0,
    "start_time": "2022-10-16T08:00:17.305Z"
   },
   {
    "duration": 0,
    "start_time": "2022-10-16T08:00:17.306Z"
   },
   {
    "duration": 0,
    "start_time": "2022-10-16T08:00:17.307Z"
   },
   {
    "duration": 0,
    "start_time": "2022-10-16T08:00:17.309Z"
   },
   {
    "duration": 0,
    "start_time": "2022-10-16T08:00:17.311Z"
   },
   {
    "duration": 0,
    "start_time": "2022-10-16T08:00:17.355Z"
   },
   {
    "duration": 75,
    "start_time": "2022-10-16T08:00:48.294Z"
   },
   {
    "duration": 20,
    "start_time": "2022-10-16T08:01:26.187Z"
   },
   {
    "duration": 17,
    "start_time": "2022-10-16T08:02:03.194Z"
   },
   {
    "duration": 18,
    "start_time": "2022-10-16T08:02:10.511Z"
   },
   {
    "duration": 30,
    "start_time": "2022-10-16T08:02:15.499Z"
   },
   {
    "duration": 6,
    "start_time": "2022-10-16T08:02:28.958Z"
   },
   {
    "duration": 62,
    "start_time": "2022-10-16T08:02:28.966Z"
   },
   {
    "duration": 4,
    "start_time": "2022-10-16T08:02:29.030Z"
   },
   {
    "duration": 22,
    "start_time": "2022-10-16T08:02:29.036Z"
   },
   {
    "duration": 1605,
    "start_time": "2022-10-16T08:02:29.060Z"
   },
   {
    "duration": 17,
    "start_time": "2022-10-16T08:02:30.668Z"
   },
   {
    "duration": 25,
    "start_time": "2022-10-16T08:02:30.687Z"
   },
   {
    "duration": 39,
    "start_time": "2022-10-16T08:02:30.714Z"
   },
   {
    "duration": 0,
    "start_time": "2022-10-16T08:02:30.756Z"
   },
   {
    "duration": 0,
    "start_time": "2022-10-16T08:02:30.758Z"
   },
   {
    "duration": 0,
    "start_time": "2022-10-16T08:02:30.760Z"
   },
   {
    "duration": 0,
    "start_time": "2022-10-16T08:02:30.762Z"
   },
   {
    "duration": 0,
    "start_time": "2022-10-16T08:02:30.764Z"
   },
   {
    "duration": 0,
    "start_time": "2022-10-16T08:02:30.765Z"
   },
   {
    "duration": 0,
    "start_time": "2022-10-16T08:02:30.766Z"
   },
   {
    "duration": 0,
    "start_time": "2022-10-16T08:02:30.767Z"
   },
   {
    "duration": 0,
    "start_time": "2022-10-16T08:02:30.769Z"
   },
   {
    "duration": 0,
    "start_time": "2022-10-16T08:02:30.771Z"
   },
   {
    "duration": 0,
    "start_time": "2022-10-16T08:02:30.772Z"
   },
   {
    "duration": 0,
    "start_time": "2022-10-16T08:02:30.773Z"
   },
   {
    "duration": 0,
    "start_time": "2022-10-16T08:02:30.774Z"
   },
   {
    "duration": 0,
    "start_time": "2022-10-16T08:02:30.775Z"
   },
   {
    "duration": 0,
    "start_time": "2022-10-16T08:02:30.776Z"
   },
   {
    "duration": 0,
    "start_time": "2022-10-16T08:02:30.777Z"
   },
   {
    "duration": 0,
    "start_time": "2022-10-16T08:02:30.780Z"
   },
   {
    "duration": 0,
    "start_time": "2022-10-16T08:02:30.781Z"
   },
   {
    "duration": 0,
    "start_time": "2022-10-16T08:02:30.782Z"
   },
   {
    "duration": 24,
    "start_time": "2022-10-16T08:02:40.871Z"
   },
   {
    "duration": 9,
    "start_time": "2022-10-16T08:07:47.395Z"
   },
   {
    "duration": 45,
    "start_time": "2022-10-16T08:07:49.123Z"
   },
   {
    "duration": 4,
    "start_time": "2022-10-16T08:08:12.831Z"
   },
   {
    "duration": 59,
    "start_time": "2022-10-16T08:08:12.837Z"
   },
   {
    "duration": 3,
    "start_time": "2022-10-16T08:08:12.898Z"
   },
   {
    "duration": 7,
    "start_time": "2022-10-16T08:08:12.903Z"
   },
   {
    "duration": 1610,
    "start_time": "2022-10-16T08:08:12.913Z"
   },
   {
    "duration": 10,
    "start_time": "2022-10-16T08:08:14.525Z"
   },
   {
    "duration": 57,
    "start_time": "2022-10-16T08:08:14.537Z"
   },
   {
    "duration": 86,
    "start_time": "2022-10-16T08:08:14.596Z"
   },
   {
    "duration": 5,
    "start_time": "2022-10-16T08:08:14.684Z"
   },
   {
    "duration": 30,
    "start_time": "2022-10-16T08:08:14.691Z"
   },
   {
    "duration": 0,
    "start_time": "2022-10-16T08:08:14.723Z"
   },
   {
    "duration": 0,
    "start_time": "2022-10-16T08:08:14.724Z"
   },
   {
    "duration": 0,
    "start_time": "2022-10-16T08:08:14.725Z"
   },
   {
    "duration": 0,
    "start_time": "2022-10-16T08:08:14.726Z"
   },
   {
    "duration": 0,
    "start_time": "2022-10-16T08:08:14.728Z"
   },
   {
    "duration": 0,
    "start_time": "2022-10-16T08:08:14.729Z"
   },
   {
    "duration": 0,
    "start_time": "2022-10-16T08:08:14.730Z"
   },
   {
    "duration": 0,
    "start_time": "2022-10-16T08:08:14.730Z"
   },
   {
    "duration": 0,
    "start_time": "2022-10-16T08:08:14.731Z"
   },
   {
    "duration": 0,
    "start_time": "2022-10-16T08:08:14.732Z"
   },
   {
    "duration": 0,
    "start_time": "2022-10-16T08:08:14.733Z"
   },
   {
    "duration": 0,
    "start_time": "2022-10-16T08:08:14.755Z"
   },
   {
    "duration": 0,
    "start_time": "2022-10-16T08:08:14.756Z"
   },
   {
    "duration": 0,
    "start_time": "2022-10-16T08:08:14.757Z"
   },
   {
    "duration": 0,
    "start_time": "2022-10-16T08:08:14.759Z"
   },
   {
    "duration": 0,
    "start_time": "2022-10-16T08:08:14.760Z"
   },
   {
    "duration": 49,
    "start_time": "2022-10-16T08:09:06.614Z"
   },
   {
    "duration": 57,
    "start_time": "2022-10-16T08:09:18.593Z"
   },
   {
    "duration": 5,
    "start_time": "2022-10-16T08:10:12.048Z"
   },
   {
    "duration": 79,
    "start_time": "2022-10-16T08:10:12.055Z"
   },
   {
    "duration": 4,
    "start_time": "2022-10-16T08:10:12.136Z"
   },
   {
    "duration": 7,
    "start_time": "2022-10-16T08:10:12.142Z"
   },
   {
    "duration": 1620,
    "start_time": "2022-10-16T08:10:12.151Z"
   },
   {
    "duration": 13,
    "start_time": "2022-10-16T08:10:13.773Z"
   },
   {
    "duration": 39,
    "start_time": "2022-10-16T08:10:13.788Z"
   },
   {
    "duration": 74,
    "start_time": "2022-10-16T08:10:13.829Z"
   },
   {
    "duration": 5,
    "start_time": "2022-10-16T08:10:13.905Z"
   },
   {
    "duration": 46,
    "start_time": "2022-10-16T08:10:13.913Z"
   },
   {
    "duration": 0,
    "start_time": "2022-10-16T08:10:13.961Z"
   },
   {
    "duration": 0,
    "start_time": "2022-10-16T08:10:13.961Z"
   },
   {
    "duration": 0,
    "start_time": "2022-10-16T08:10:13.962Z"
   },
   {
    "duration": 0,
    "start_time": "2022-10-16T08:10:13.964Z"
   },
   {
    "duration": 0,
    "start_time": "2022-10-16T08:10:13.966Z"
   },
   {
    "duration": 0,
    "start_time": "2022-10-16T08:10:13.968Z"
   },
   {
    "duration": 0,
    "start_time": "2022-10-16T08:10:13.969Z"
   },
   {
    "duration": 0,
    "start_time": "2022-10-16T08:10:13.971Z"
   },
   {
    "duration": 0,
    "start_time": "2022-10-16T08:10:13.972Z"
   },
   {
    "duration": 0,
    "start_time": "2022-10-16T08:10:13.973Z"
   },
   {
    "duration": 0,
    "start_time": "2022-10-16T08:10:13.975Z"
   },
   {
    "duration": 0,
    "start_time": "2022-10-16T08:10:13.977Z"
   },
   {
    "duration": 0,
    "start_time": "2022-10-16T08:10:13.978Z"
   },
   {
    "duration": 0,
    "start_time": "2022-10-16T08:10:13.980Z"
   },
   {
    "duration": 0,
    "start_time": "2022-10-16T08:10:13.981Z"
   },
   {
    "duration": 0,
    "start_time": "2022-10-16T08:10:13.982Z"
   },
   {
    "duration": 1530,
    "start_time": "2022-10-16T08:10:36.242Z"
   },
   {
    "duration": 60,
    "start_time": "2022-10-16T08:10:37.780Z"
   },
   {
    "duration": 3,
    "start_time": "2022-10-16T08:10:37.842Z"
   },
   {
    "duration": 28,
    "start_time": "2022-10-16T08:10:37.848Z"
   },
   {
    "duration": 1690,
    "start_time": "2022-10-16T08:10:37.878Z"
   },
   {
    "duration": 17,
    "start_time": "2022-10-16T08:10:39.570Z"
   },
   {
    "duration": 43,
    "start_time": "2022-10-16T08:10:39.589Z"
   },
   {
    "duration": 150,
    "start_time": "2022-10-16T08:10:39.634Z"
   },
   {
    "duration": 0,
    "start_time": "2022-10-16T08:10:39.786Z"
   },
   {
    "duration": 0,
    "start_time": "2022-10-16T08:10:39.788Z"
   },
   {
    "duration": 0,
    "start_time": "2022-10-16T08:10:39.789Z"
   },
   {
    "duration": 0,
    "start_time": "2022-10-16T08:10:39.790Z"
   },
   {
    "duration": 0,
    "start_time": "2022-10-16T08:10:39.791Z"
   },
   {
    "duration": 0,
    "start_time": "2022-10-16T08:10:39.792Z"
   },
   {
    "duration": 0,
    "start_time": "2022-10-16T08:10:39.793Z"
   },
   {
    "duration": 0,
    "start_time": "2022-10-16T08:10:39.796Z"
   },
   {
    "duration": 0,
    "start_time": "2022-10-16T08:10:39.797Z"
   },
   {
    "duration": 0,
    "start_time": "2022-10-16T08:10:39.798Z"
   },
   {
    "duration": 0,
    "start_time": "2022-10-16T08:10:39.798Z"
   },
   {
    "duration": 0,
    "start_time": "2022-10-16T08:10:39.799Z"
   },
   {
    "duration": 0,
    "start_time": "2022-10-16T08:10:39.800Z"
   },
   {
    "duration": 0,
    "start_time": "2022-10-16T08:10:39.802Z"
   },
   {
    "duration": 0,
    "start_time": "2022-10-16T08:10:39.803Z"
   },
   {
    "duration": 0,
    "start_time": "2022-10-16T08:10:39.804Z"
   },
   {
    "duration": 0,
    "start_time": "2022-10-16T08:10:39.805Z"
   },
   {
    "duration": 0,
    "start_time": "2022-10-16T08:10:39.806Z"
   },
   {
    "duration": 50,
    "start_time": "2022-10-16T08:10:48.670Z"
   },
   {
    "duration": 5,
    "start_time": "2022-10-16T08:11:27.938Z"
   },
   {
    "duration": 58,
    "start_time": "2022-10-16T08:11:27.945Z"
   },
   {
    "duration": 2,
    "start_time": "2022-10-16T08:11:28.005Z"
   },
   {
    "duration": 7,
    "start_time": "2022-10-16T08:11:28.010Z"
   },
   {
    "duration": 1634,
    "start_time": "2022-10-16T08:11:28.018Z"
   },
   {
    "duration": 16,
    "start_time": "2022-10-16T08:11:29.655Z"
   },
   {
    "duration": 51,
    "start_time": "2022-10-16T08:11:29.673Z"
   },
   {
    "duration": 68,
    "start_time": "2022-10-16T08:11:29.726Z"
   },
   {
    "duration": 10,
    "start_time": "2022-10-16T08:11:29.797Z"
   },
   {
    "duration": 0,
    "start_time": "2022-10-16T08:11:29.810Z"
   },
   {
    "duration": 0,
    "start_time": "2022-10-16T08:11:29.811Z"
   },
   {
    "duration": 0,
    "start_time": "2022-10-16T08:11:29.813Z"
   },
   {
    "duration": 0,
    "start_time": "2022-10-16T08:11:29.814Z"
   },
   {
    "duration": 0,
    "start_time": "2022-10-16T08:11:29.815Z"
   },
   {
    "duration": 0,
    "start_time": "2022-10-16T08:11:29.817Z"
   },
   {
    "duration": 0,
    "start_time": "2022-10-16T08:11:29.819Z"
   },
   {
    "duration": 0,
    "start_time": "2022-10-16T08:11:29.856Z"
   },
   {
    "duration": 0,
    "start_time": "2022-10-16T08:11:29.858Z"
   },
   {
    "duration": 0,
    "start_time": "2022-10-16T08:11:29.859Z"
   },
   {
    "duration": 0,
    "start_time": "2022-10-16T08:11:29.869Z"
   },
   {
    "duration": 0,
    "start_time": "2022-10-16T08:11:29.870Z"
   },
   {
    "duration": 0,
    "start_time": "2022-10-16T08:11:29.871Z"
   },
   {
    "duration": 0,
    "start_time": "2022-10-16T08:11:29.873Z"
   },
   {
    "duration": 0,
    "start_time": "2022-10-16T08:11:29.874Z"
   },
   {
    "duration": 0,
    "start_time": "2022-10-16T08:11:29.876Z"
   },
   {
    "duration": 0,
    "start_time": "2022-10-16T08:11:29.877Z"
   },
   {
    "duration": 20,
    "start_time": "2022-10-16T08:12:41.560Z"
   },
   {
    "duration": 47,
    "start_time": "2022-10-16T08:12:43.232Z"
   },
   {
    "duration": 40,
    "start_time": "2022-10-16T08:12:46.076Z"
   },
   {
    "duration": 6,
    "start_time": "2022-10-16T08:14:59.049Z"
   },
   {
    "duration": 14,
    "start_time": "2022-10-16T08:18:27.287Z"
   },
   {
    "duration": 48,
    "start_time": "2022-10-16T08:18:28.672Z"
   },
   {
    "duration": 65,
    "start_time": "2022-10-16T08:18:31.576Z"
   },
   {
    "duration": 13,
    "start_time": "2022-10-16T08:18:38.291Z"
   },
   {
    "duration": 44,
    "start_time": "2022-10-16T08:18:39.925Z"
   },
   {
    "duration": 42,
    "start_time": "2022-10-16T08:18:42.461Z"
   },
   {
    "duration": 1377,
    "start_time": "2022-10-16T08:18:58.805Z"
   },
   {
    "duration": 56,
    "start_time": "2022-10-16T08:19:00.183Z"
   },
   {
    "duration": 3,
    "start_time": "2022-10-16T08:19:00.241Z"
   },
   {
    "duration": 51,
    "start_time": "2022-10-16T08:19:00.246Z"
   },
   {
    "duration": 1625,
    "start_time": "2022-10-16T08:19:00.300Z"
   },
   {
    "duration": 30,
    "start_time": "2022-10-16T08:19:01.927Z"
   },
   {
    "duration": 59,
    "start_time": "2022-10-16T08:19:01.960Z"
   },
   {
    "duration": 43,
    "start_time": "2022-10-16T08:19:02.021Z"
   },
   {
    "duration": 5,
    "start_time": "2022-10-16T08:19:02.066Z"
   },
   {
    "duration": 131,
    "start_time": "2022-10-16T08:19:02.075Z"
   },
   {
    "duration": 0,
    "start_time": "2022-10-16T08:19:02.207Z"
   },
   {
    "duration": 0,
    "start_time": "2022-10-16T08:19:02.209Z"
   },
   {
    "duration": 0,
    "start_time": "2022-10-16T08:19:02.210Z"
   },
   {
    "duration": 0,
    "start_time": "2022-10-16T08:19:02.211Z"
   },
   {
    "duration": 0,
    "start_time": "2022-10-16T08:19:02.212Z"
   },
   {
    "duration": 0,
    "start_time": "2022-10-16T08:19:02.214Z"
   },
   {
    "duration": 0,
    "start_time": "2022-10-16T08:19:02.215Z"
   },
   {
    "duration": 0,
    "start_time": "2022-10-16T08:19:02.216Z"
   },
   {
    "duration": 0,
    "start_time": "2022-10-16T08:19:02.218Z"
   },
   {
    "duration": 0,
    "start_time": "2022-10-16T08:19:02.219Z"
   },
   {
    "duration": 0,
    "start_time": "2022-10-16T08:19:02.221Z"
   },
   {
    "duration": 0,
    "start_time": "2022-10-16T08:19:02.222Z"
   },
   {
    "duration": 0,
    "start_time": "2022-10-16T08:19:02.223Z"
   },
   {
    "duration": 0,
    "start_time": "2022-10-16T08:19:02.225Z"
   },
   {
    "duration": 0,
    "start_time": "2022-10-16T08:19:02.226Z"
   },
   {
    "duration": 0,
    "start_time": "2022-10-16T08:19:02.254Z"
   },
   {
    "duration": 13,
    "start_time": "2022-10-16T08:19:42.776Z"
   },
   {
    "duration": 21,
    "start_time": "2022-10-16T08:19:44.222Z"
   },
   {
    "duration": 28,
    "start_time": "2022-10-16T08:19:45.651Z"
   },
   {
    "duration": 13,
    "start_time": "2022-10-16T08:19:59.923Z"
   },
   {
    "duration": 40,
    "start_time": "2022-10-16T08:20:01.468Z"
   },
   {
    "duration": 42,
    "start_time": "2022-10-16T08:20:04.881Z"
   },
   {
    "duration": 20,
    "start_time": "2022-10-16T08:20:25.040Z"
   },
   {
    "duration": 22,
    "start_time": "2022-10-16T08:20:30.334Z"
   },
   {
    "duration": 16,
    "start_time": "2022-10-16T08:20:47.418Z"
   },
   {
    "duration": 29,
    "start_time": "2022-10-16T08:20:49.242Z"
   },
   {
    "duration": 14,
    "start_time": "2022-10-16T08:21:12.005Z"
   },
   {
    "duration": 30,
    "start_time": "2022-10-16T08:21:14.188Z"
   },
   {
    "duration": 11,
    "start_time": "2022-10-16T08:21:46.540Z"
   },
   {
    "duration": 31,
    "start_time": "2022-10-16T08:21:48.576Z"
   },
   {
    "duration": 36,
    "start_time": "2022-10-16T08:21:52.365Z"
   },
   {
    "duration": 8,
    "start_time": "2022-10-16T08:24:54.836Z"
   },
   {
    "duration": 23,
    "start_time": "2022-10-16T08:24:56.115Z"
   },
   {
    "duration": 35,
    "start_time": "2022-10-16T08:25:23.201Z"
   },
   {
    "duration": 4,
    "start_time": "2022-10-16T08:25:39.296Z"
   },
   {
    "duration": 54,
    "start_time": "2022-10-16T08:25:39.303Z"
   },
   {
    "duration": 3,
    "start_time": "2022-10-16T08:25:39.360Z"
   },
   {
    "duration": 7,
    "start_time": "2022-10-16T08:25:39.365Z"
   },
   {
    "duration": 1501,
    "start_time": "2022-10-16T08:25:39.373Z"
   },
   {
    "duration": 7,
    "start_time": "2022-10-16T08:25:40.876Z"
   },
   {
    "duration": 21,
    "start_time": "2022-10-16T08:25:40.885Z"
   },
   {
    "duration": 0,
    "start_time": "2022-10-16T08:25:40.908Z"
   },
   {
    "duration": 0,
    "start_time": "2022-10-16T08:25:40.909Z"
   },
   {
    "duration": 0,
    "start_time": "2022-10-16T08:25:40.910Z"
   },
   {
    "duration": 0,
    "start_time": "2022-10-16T08:25:40.911Z"
   },
   {
    "duration": 0,
    "start_time": "2022-10-16T08:25:40.912Z"
   },
   {
    "duration": 0,
    "start_time": "2022-10-16T08:25:40.913Z"
   },
   {
    "duration": 0,
    "start_time": "2022-10-16T08:25:40.914Z"
   },
   {
    "duration": 0,
    "start_time": "2022-10-16T08:25:40.916Z"
   },
   {
    "duration": 0,
    "start_time": "2022-10-16T08:25:40.917Z"
   },
   {
    "duration": 0,
    "start_time": "2022-10-16T08:25:40.918Z"
   },
   {
    "duration": 0,
    "start_time": "2022-10-16T08:25:40.953Z"
   },
   {
    "duration": 0,
    "start_time": "2022-10-16T08:25:40.955Z"
   },
   {
    "duration": 0,
    "start_time": "2022-10-16T08:25:40.956Z"
   },
   {
    "duration": 0,
    "start_time": "2022-10-16T08:25:40.958Z"
   },
   {
    "duration": 0,
    "start_time": "2022-10-16T08:25:40.959Z"
   },
   {
    "duration": 0,
    "start_time": "2022-10-16T08:25:40.960Z"
   },
   {
    "duration": 0,
    "start_time": "2022-10-16T08:25:40.961Z"
   },
   {
    "duration": 0,
    "start_time": "2022-10-16T08:25:40.962Z"
   },
   {
    "duration": 0,
    "start_time": "2022-10-16T08:25:40.963Z"
   },
   {
    "duration": 9,
    "start_time": "2022-10-16T08:25:52.766Z"
   },
   {
    "duration": 36,
    "start_time": "2022-10-16T08:25:54.781Z"
   },
   {
    "duration": 28,
    "start_time": "2022-10-16T08:26:18.253Z"
   },
   {
    "duration": 46,
    "start_time": "2022-10-16T08:26:20.573Z"
   },
   {
    "duration": 47,
    "start_time": "2022-10-16T08:27:31.188Z"
   },
   {
    "duration": 8,
    "start_time": "2022-10-16T08:27:33.598Z"
   },
   {
    "duration": 45,
    "start_time": "2022-10-16T08:27:34.790Z"
   },
   {
    "duration": 42,
    "start_time": "2022-10-16T08:27:56.737Z"
   },
   {
    "duration": 8,
    "start_time": "2022-10-16T08:28:46.951Z"
   },
   {
    "duration": 41,
    "start_time": "2022-10-16T08:28:48.073Z"
   },
   {
    "duration": 39,
    "start_time": "2022-10-16T08:28:50.499Z"
   },
   {
    "duration": 1601,
    "start_time": "2022-10-16T08:30:00.138Z"
   },
   {
    "duration": 91,
    "start_time": "2022-10-16T08:30:01.741Z"
   },
   {
    "duration": 3,
    "start_time": "2022-10-16T08:30:01.834Z"
   },
   {
    "duration": 26,
    "start_time": "2022-10-16T08:30:01.838Z"
   },
   {
    "duration": 1548,
    "start_time": "2022-10-16T08:30:01.866Z"
   },
   {
    "duration": 7,
    "start_time": "2022-10-16T08:30:03.416Z"
   },
   {
    "duration": 64,
    "start_time": "2022-10-16T08:30:03.425Z"
   },
   {
    "duration": 39,
    "start_time": "2022-10-16T08:30:03.490Z"
   },
   {
    "duration": 24,
    "start_time": "2022-10-16T08:30:03.530Z"
   },
   {
    "duration": 44,
    "start_time": "2022-10-16T08:30:03.558Z"
   },
   {
    "duration": 63,
    "start_time": "2022-10-16T08:30:03.603Z"
   },
   {
    "duration": 866,
    "start_time": "2022-10-16T08:30:03.668Z"
   },
   {
    "duration": 44,
    "start_time": "2022-10-16T08:30:04.536Z"
   },
   {
    "duration": 85,
    "start_time": "2022-10-16T08:30:04.582Z"
   },
   {
    "duration": 110,
    "start_time": "2022-10-16T08:30:04.671Z"
   },
   {
    "duration": 80,
    "start_time": "2022-10-16T08:30:04.783Z"
   },
   {
    "duration": 102,
    "start_time": "2022-10-16T08:30:04.871Z"
   },
   {
    "duration": 44,
    "start_time": "2022-10-16T08:30:04.975Z"
   },
   {
    "duration": 65,
    "start_time": "2022-10-16T08:30:05.021Z"
   },
   {
    "duration": 410,
    "start_time": "2022-10-16T08:30:05.088Z"
   },
   {
    "duration": 1038,
    "start_time": "2022-10-16T08:30:05.500Z"
   },
   {
    "duration": 12642,
    "start_time": "2022-10-16T08:30:06.540Z"
   },
   {
    "duration": 5444,
    "start_time": "2022-10-16T08:30:19.184Z"
   },
   {
    "duration": 950,
    "start_time": "2022-10-16T08:30:24.630Z"
   },
   {
    "duration": 211,
    "start_time": "2022-10-16T08:30:25.584Z"
   },
   {
    "duration": 140,
    "start_time": "2022-10-16T08:30:25.797Z"
   },
   {
    "duration": 813,
    "start_time": "2022-10-16T08:30:57.875Z"
   },
   {
    "duration": 5,
    "start_time": "2022-10-16T08:33:08.432Z"
   },
   {
    "duration": 3,
    "start_time": "2022-10-16T08:33:39.431Z"
   },
   {
    "duration": 39,
    "start_time": "2022-10-16T08:33:44.935Z"
   },
   {
    "duration": 27,
    "start_time": "2022-10-16T08:33:54.926Z"
   },
   {
    "duration": 855,
    "start_time": "2022-10-16T08:34:01.009Z"
   },
   {
    "duration": 59,
    "start_time": "2022-10-16T08:34:13.597Z"
   },
   {
    "duration": 762,
    "start_time": "2022-10-16T08:35:14.102Z"
   },
   {
    "duration": 46,
    "start_time": "2022-10-16T08:35:16.623Z"
   },
   {
    "duration": 41,
    "start_time": "2022-10-16T08:35:40.915Z"
   },
   {
    "duration": 23,
    "start_time": "2022-10-16T08:35:49.131Z"
   },
   {
    "duration": 4,
    "start_time": "2022-10-16T08:36:01.356Z"
   },
   {
    "duration": 63,
    "start_time": "2022-10-16T08:36:01.362Z"
   },
   {
    "duration": 3,
    "start_time": "2022-10-16T08:36:01.427Z"
   },
   {
    "duration": 25,
    "start_time": "2022-10-16T08:36:01.433Z"
   },
   {
    "duration": 1541,
    "start_time": "2022-10-16T08:36:01.460Z"
   },
   {
    "duration": 7,
    "start_time": "2022-10-16T08:36:03.003Z"
   },
   {
    "duration": 57,
    "start_time": "2022-10-16T08:36:03.012Z"
   },
   {
    "duration": 50,
    "start_time": "2022-10-16T08:36:03.071Z"
   },
   {
    "duration": 22,
    "start_time": "2022-10-16T08:36:03.122Z"
   },
   {
    "duration": 8,
    "start_time": "2022-10-16T08:36:03.147Z"
   },
   {
    "duration": 58,
    "start_time": "2022-10-16T08:36:03.157Z"
   },
   {
    "duration": 137,
    "start_time": "2022-10-16T08:36:03.217Z"
   },
   {
    "duration": 865,
    "start_time": "2022-10-16T08:36:03.357Z"
   },
   {
    "duration": 36,
    "start_time": "2022-10-16T08:36:04.224Z"
   },
   {
    "duration": 948,
    "start_time": "2022-10-16T08:36:04.262Z"
   },
   {
    "duration": 46,
    "start_time": "2022-10-16T08:36:05.211Z"
   },
   {
    "duration": 5,
    "start_time": "2022-10-16T08:36:05.259Z"
   },
   {
    "duration": 31,
    "start_time": "2022-10-16T08:36:05.266Z"
   },
   {
    "duration": 58,
    "start_time": "2022-10-16T08:36:05.299Z"
   },
   {
    "duration": 116,
    "start_time": "2022-10-16T08:36:05.359Z"
   },
   {
    "duration": 64,
    "start_time": "2022-10-16T08:36:05.477Z"
   },
   {
    "duration": 56,
    "start_time": "2022-10-16T08:36:05.542Z"
   },
   {
    "duration": 433,
    "start_time": "2022-10-16T08:36:05.601Z"
   },
   {
    "duration": 1006,
    "start_time": "2022-10-16T08:36:06.036Z"
   },
   {
    "duration": 3616,
    "start_time": "2022-10-16T08:36:07.044Z"
   },
   {
    "duration": 0,
    "start_time": "2022-10-16T08:36:10.662Z"
   },
   {
    "duration": 0,
    "start_time": "2022-10-16T08:36:10.663Z"
   },
   {
    "duration": 0,
    "start_time": "2022-10-16T08:36:10.665Z"
   },
   {
    "duration": 0,
    "start_time": "2022-10-16T08:36:10.666Z"
   },
   {
    "duration": 1442,
    "start_time": "2022-10-16T08:37:15.191Z"
   },
   {
    "duration": 62,
    "start_time": "2022-10-16T08:37:16.635Z"
   },
   {
    "duration": 3,
    "start_time": "2022-10-16T08:37:16.699Z"
   },
   {
    "duration": 15,
    "start_time": "2022-10-16T08:37:16.704Z"
   },
   {
    "duration": 1488,
    "start_time": "2022-10-16T08:37:16.721Z"
   },
   {
    "duration": 8,
    "start_time": "2022-10-16T08:37:18.211Z"
   },
   {
    "duration": 52,
    "start_time": "2022-10-16T08:37:18.220Z"
   },
   {
    "duration": 47,
    "start_time": "2022-10-16T08:37:18.274Z"
   },
   {
    "duration": 4,
    "start_time": "2022-10-16T08:37:18.324Z"
   },
   {
    "duration": 7,
    "start_time": "2022-10-16T08:37:18.354Z"
   },
   {
    "duration": 53,
    "start_time": "2022-10-16T08:37:18.365Z"
   },
   {
    "duration": 46,
    "start_time": "2022-10-16T08:37:18.421Z"
   },
   {
    "duration": 973,
    "start_time": "2022-10-16T08:37:18.469Z"
   },
   {
    "duration": 30,
    "start_time": "2022-10-16T08:37:19.444Z"
   },
   {
    "duration": 860,
    "start_time": "2022-10-16T08:37:19.557Z"
   },
   {
    "duration": 47,
    "start_time": "2022-10-16T08:37:20.418Z"
   },
   {
    "duration": 6,
    "start_time": "2022-10-16T08:37:20.467Z"
   },
   {
    "duration": 30,
    "start_time": "2022-10-16T08:37:20.475Z"
   },
   {
    "duration": 52,
    "start_time": "2022-10-16T08:37:20.507Z"
   },
   {
    "duration": 205,
    "start_time": "2022-10-16T08:37:20.560Z"
   },
   {
    "duration": 47,
    "start_time": "2022-10-16T08:37:20.767Z"
   },
   {
    "duration": 60,
    "start_time": "2022-10-16T08:37:20.816Z"
   },
   {
    "duration": 413,
    "start_time": "2022-10-16T08:37:20.878Z"
   },
   {
    "duration": 1056,
    "start_time": "2022-10-16T08:37:21.292Z"
   },
   {
    "duration": 11359,
    "start_time": "2022-10-16T08:37:22.350Z"
   },
   {
    "duration": 4857,
    "start_time": "2022-10-16T08:37:33.711Z"
   },
   {
    "duration": 682,
    "start_time": "2022-10-16T08:37:38.570Z"
   },
   {
    "duration": 185,
    "start_time": "2022-10-16T08:37:39.256Z"
   },
   {
    "duration": 129,
    "start_time": "2022-10-16T08:37:39.443Z"
   },
   {
    "duration": 5,
    "start_time": "2022-10-16T08:40:03.108Z"
   },
   {
    "duration": 6,
    "start_time": "2022-10-16T08:43:55.813Z"
   },
   {
    "duration": 4,
    "start_time": "2022-10-16T08:44:21.975Z"
   },
   {
    "duration": 113,
    "start_time": "2022-10-16T08:44:32.374Z"
   },
   {
    "duration": 122,
    "start_time": "2022-10-16T08:44:42.082Z"
   },
   {
    "duration": 104,
    "start_time": "2022-10-16T08:44:49.836Z"
   },
   {
    "duration": 32,
    "start_time": "2022-10-16T08:48:37.830Z"
   },
   {
    "duration": 1312,
    "start_time": "2022-10-16T08:57:28.295Z"
   },
   {
    "duration": 51,
    "start_time": "2022-10-16T08:57:29.609Z"
   },
   {
    "duration": 3,
    "start_time": "2022-10-16T08:57:29.662Z"
   },
   {
    "duration": 9,
    "start_time": "2022-10-16T08:57:29.666Z"
   },
   {
    "duration": 1458,
    "start_time": "2022-10-16T08:57:29.676Z"
   },
   {
    "duration": 8,
    "start_time": "2022-10-16T08:57:31.136Z"
   },
   {
    "duration": 54,
    "start_time": "2022-10-16T08:57:31.153Z"
   },
   {
    "duration": 4,
    "start_time": "2022-10-16T08:57:31.209Z"
   },
   {
    "duration": 30,
    "start_time": "2022-10-16T08:57:31.214Z"
   },
   {
    "duration": 139,
    "start_time": "2022-10-16T08:57:31.247Z"
   },
   {
    "duration": 47,
    "start_time": "2022-10-16T08:57:31.388Z"
   },
   {
    "duration": 117,
    "start_time": "2022-10-16T08:57:31.437Z"
   },
   {
    "duration": 893,
    "start_time": "2022-10-16T08:57:31.556Z"
   },
   {
    "duration": 101,
    "start_time": "2022-10-16T08:57:32.454Z"
   },
   {
    "duration": 839,
    "start_time": "2022-10-16T08:57:32.557Z"
   },
   {
    "duration": 40,
    "start_time": "2022-10-16T08:57:33.398Z"
   },
   {
    "duration": 16,
    "start_time": "2022-10-16T08:57:33.440Z"
   },
   {
    "duration": 35,
    "start_time": "2022-10-16T08:57:33.458Z"
   },
   {
    "duration": 67,
    "start_time": "2022-10-16T08:57:33.494Z"
   },
   {
    "duration": 294,
    "start_time": "2022-10-16T08:57:33.563Z"
   },
   {
    "duration": 117,
    "start_time": "2022-10-16T08:57:33.859Z"
   },
   {
    "duration": 58,
    "start_time": "2022-10-16T08:57:33.977Z"
   },
   {
    "duration": 434,
    "start_time": "2022-10-16T08:57:34.036Z"
   },
   {
    "duration": 1050,
    "start_time": "2022-10-16T08:57:34.471Z"
   },
   {
    "duration": 4996,
    "start_time": "2022-10-16T08:57:35.522Z"
   },
   {
    "duration": 11501,
    "start_time": "2022-10-16T08:57:40.520Z"
   },
   {
    "duration": 94,
    "start_time": "2022-10-16T08:57:52.022Z"
   },
   {
    "duration": 182,
    "start_time": "2022-10-16T08:57:52.119Z"
   },
   {
    "duration": 131,
    "start_time": "2022-10-16T08:57:52.302Z"
   },
   {
    "duration": 1343,
    "start_time": "2022-10-16T08:59:19.284Z"
   },
   {
    "duration": 57,
    "start_time": "2022-10-16T08:59:20.629Z"
   },
   {
    "duration": 3,
    "start_time": "2022-10-16T08:59:20.688Z"
   },
   {
    "duration": 14,
    "start_time": "2022-10-16T08:59:20.693Z"
   },
   {
    "duration": 1540,
    "start_time": "2022-10-16T08:59:20.709Z"
   },
   {
    "duration": 7,
    "start_time": "2022-10-16T08:59:22.250Z"
   },
   {
    "duration": 52,
    "start_time": "2022-10-16T08:59:22.258Z"
   },
   {
    "duration": 3,
    "start_time": "2022-10-16T08:59:22.312Z"
   },
   {
    "duration": 22,
    "start_time": "2022-10-16T08:59:22.317Z"
   },
   {
    "duration": 178,
    "start_time": "2022-10-16T08:59:22.341Z"
   },
   {
    "duration": 49,
    "start_time": "2022-10-16T08:59:22.521Z"
   },
   {
    "duration": 83,
    "start_time": "2022-10-16T08:59:22.572Z"
   },
   {
    "duration": 858,
    "start_time": "2022-10-16T08:59:22.656Z"
   },
   {
    "duration": 44,
    "start_time": "2022-10-16T08:59:23.516Z"
   },
   {
    "duration": 917,
    "start_time": "2022-10-16T08:59:23.562Z"
   },
   {
    "duration": 40,
    "start_time": "2022-10-16T08:59:24.481Z"
   },
   {
    "duration": 6,
    "start_time": "2022-10-16T08:59:24.522Z"
   },
   {
    "duration": 33,
    "start_time": "2022-10-16T08:59:24.530Z"
   },
   {
    "duration": 90,
    "start_time": "2022-10-16T08:59:24.564Z"
   },
   {
    "duration": 199,
    "start_time": "2022-10-16T08:59:24.656Z"
   },
   {
    "duration": 118,
    "start_time": "2022-10-16T08:59:24.857Z"
   },
   {
    "duration": 46,
    "start_time": "2022-10-16T08:59:24.978Z"
   },
   {
    "duration": 432,
    "start_time": "2022-10-16T08:59:25.025Z"
   },
   {
    "duration": 1027,
    "start_time": "2022-10-16T08:59:25.459Z"
   },
   {
    "duration": 4903,
    "start_time": "2022-10-16T08:59:26.488Z"
   },
   {
    "duration": 11672,
    "start_time": "2022-10-16T08:59:31.393Z"
   },
   {
    "duration": 119,
    "start_time": "2022-10-16T08:59:43.067Z"
   },
   {
    "duration": 187,
    "start_time": "2022-10-16T08:59:43.188Z"
   },
   {
    "duration": 125,
    "start_time": "2022-10-16T08:59:43.376Z"
   },
   {
    "duration": 1261,
    "start_time": "2022-10-16T22:06:40.218Z"
   },
   {
    "duration": 77,
    "start_time": "2022-10-16T22:06:41.483Z"
   },
   {
    "duration": 4,
    "start_time": "2022-10-16T22:06:41.562Z"
   },
   {
    "duration": 8,
    "start_time": "2022-10-16T22:06:41.567Z"
   },
   {
    "duration": 1304,
    "start_time": "2022-10-16T22:06:41.577Z"
   },
   {
    "duration": 7,
    "start_time": "2022-10-16T22:06:42.883Z"
   },
   {
    "duration": 43,
    "start_time": "2022-10-16T22:06:42.891Z"
   },
   {
    "duration": 3,
    "start_time": "2022-10-16T22:06:42.936Z"
   },
   {
    "duration": 7,
    "start_time": "2022-10-16T22:06:42.940Z"
   },
   {
    "duration": 122,
    "start_time": "2022-10-16T22:06:42.948Z"
   },
   {
    "duration": 50,
    "start_time": "2022-10-16T22:06:43.072Z"
   },
   {
    "duration": 102,
    "start_time": "2022-10-16T22:06:43.123Z"
   },
   {
    "duration": 776,
    "start_time": "2022-10-16T22:06:43.228Z"
   },
   {
    "duration": 30,
    "start_time": "2022-10-16T22:06:44.006Z"
   },
   {
    "duration": 851,
    "start_time": "2022-10-16T22:06:44.038Z"
   },
   {
    "duration": 41,
    "start_time": "2022-10-16T22:06:44.891Z"
   },
   {
    "duration": 5,
    "start_time": "2022-10-16T22:06:44.934Z"
   },
   {
    "duration": 17,
    "start_time": "2022-10-16T22:06:44.941Z"
   },
   {
    "duration": 67,
    "start_time": "2022-10-16T22:06:44.960Z"
   },
   {
    "duration": 203,
    "start_time": "2022-10-16T22:06:45.029Z"
   },
   {
    "duration": 116,
    "start_time": "2022-10-16T22:06:45.324Z"
   },
   {
    "duration": 40,
    "start_time": "2022-10-16T22:06:45.441Z"
   },
   {
    "duration": 395,
    "start_time": "2022-10-16T22:06:45.482Z"
   },
   {
    "duration": 906,
    "start_time": "2022-10-16T22:06:45.878Z"
   },
   {
    "duration": 4518,
    "start_time": "2022-10-16T22:06:46.786Z"
   },
   {
    "duration": 10465,
    "start_time": "2022-10-16T22:06:51.306Z"
   },
   {
    "duration": 103,
    "start_time": "2022-10-16T22:07:01.773Z"
   },
   {
    "duration": 167,
    "start_time": "2022-10-16T22:07:01.877Z"
   },
   {
    "duration": 118,
    "start_time": "2022-10-16T22:07:02.046Z"
   }
  ],
  "kernelspec": {
   "display_name": "Python 3 (ipykernel)",
   "language": "python",
   "name": "python3"
  },
  "language_info": {
   "codemirror_mode": {
    "name": "ipython",
    "version": 3
   },
   "file_extension": ".py",
   "mimetype": "text/x-python",
   "name": "python",
   "nbconvert_exporter": "python",
   "pygments_lexer": "ipython3",
   "version": "3.9.5"
  },
  "toc": {
   "base_numbering": 1,
   "nav_menu": {},
   "number_sections": true,
   "sideBar": true,
   "skip_h1_title": true,
   "title_cell": "Содержание",
   "title_sidebar": "Contents",
   "toc_cell": true,
   "toc_position": {},
   "toc_section_display": true,
   "toc_window_display": true
  }
 },
 "nbformat": 4,
 "nbformat_minor": 2
}
